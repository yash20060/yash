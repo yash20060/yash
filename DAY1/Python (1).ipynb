{
  "nbformat": 4,
  "nbformat_minor": 0,
  "metadata": {
    "colab": {
      "provenance": []
    },
    "kernelspec": {
      "name": "python3",
      "display_name": "Python 3"
    },
    "language_info": {
      "name": "python"
    }
  },
  "cells": [
    {
      "cell_type": "markdown",
      "source": [
        "# Test"
      ],
      "metadata": {
        "id": "mThWDpQqS4Tv"
      }
    },
    {
      "cell_type": "code",
      "execution_count": null,
      "metadata": {
        "id": "2jQN3m-gKRgz",
        "colab": {
          "base_uri": "https://localhost:8080/"
        },
        "outputId": "0a25738c-d508-4c45-ed58-bc1fe07d98fc"
      },
      "outputs": [
        {
          "output_type": "stream",
          "name": "stdout",
          "text": [
            "Hello Python\n"
          ]
        }
      ],
      "source": [
        "print(\"Hello Python\")"
      ]
    },
    {
      "cell_type": "markdown",
      "source": [
        "# Data Type"
      ],
      "metadata": {
        "id": "ey_0tFnqS8F3"
      }
    },
    {
      "cell_type": "markdown",
      "source": [
        "### Int"
      ],
      "metadata": {
        "id": "ityVcOo8TBin"
      }
    },
    {
      "cell_type": "code",
      "source": [
        "a = 3\n",
        "print(a)"
      ],
      "metadata": {
        "id": "2b-4uLohSuWF",
        "colab": {
          "base_uri": "https://localhost:8080/"
        },
        "outputId": "874fad6b-0458-4192-ab52-6e64d5f97daf"
      },
      "execution_count": null,
      "outputs": [
        {
          "output_type": "stream",
          "name": "stdout",
          "text": [
            "3\n"
          ]
        }
      ]
    },
    {
      "cell_type": "code",
      "source": [
        "print(type(a))"
      ],
      "metadata": {
        "id": "LlPHA_e6TRjS",
        "colab": {
          "base_uri": "https://localhost:8080/"
        },
        "outputId": "6e4e89c9-f52a-423f-9e9d-46ecd6a073b9"
      },
      "execution_count": null,
      "outputs": [
        {
          "output_type": "stream",
          "name": "stdout",
          "text": [
            "<class 'int'>\n"
          ]
        }
      ]
    },
    {
      "cell_type": "code",
      "source": [
        "b = -3"
      ],
      "metadata": {
        "id": "WQVSGIlHeC55"
      },
      "execution_count": null,
      "outputs": []
    },
    {
      "cell_type": "code",
      "source": [
        "print(type(b))"
      ],
      "metadata": {
        "id": "Sns0gbpyeIF2",
        "colab": {
          "base_uri": "https://localhost:8080/"
        },
        "outputId": "0f6b480d-13ae-453c-86e2-4147a35e4985"
      },
      "execution_count": null,
      "outputs": [
        {
          "output_type": "stream",
          "name": "stdout",
          "text": [
            "<class 'int'>\n"
          ]
        }
      ]
    },
    {
      "cell_type": "markdown",
      "source": [
        "### Float"
      ],
      "metadata": {
        "id": "iQHzh2tFTM7f"
      }
    },
    {
      "cell_type": "code",
      "source": [
        "b = 3.5\n",
        "print(b)"
      ],
      "metadata": {
        "id": "nl1cpCmGTIK1",
        "colab": {
          "base_uri": "https://localhost:8080/"
        },
        "outputId": "38fcf165-59c3-4cd7-c8bb-b1b1615064b9"
      },
      "execution_count": null,
      "outputs": [
        {
          "output_type": "stream",
          "name": "stdout",
          "text": [
            "3.5\n"
          ]
        }
      ]
    },
    {
      "cell_type": "code",
      "source": [
        "print(type(b))"
      ],
      "metadata": {
        "id": "hZ95yv-HTQuH",
        "colab": {
          "base_uri": "https://localhost:8080/"
        },
        "outputId": "b336c5d0-d13b-4ce0-a935-26848210c8d6"
      },
      "execution_count": null,
      "outputs": [
        {
          "output_type": "stream",
          "name": "stdout",
          "text": [
            "<class 'float'>\n"
          ]
        }
      ]
    },
    {
      "cell_type": "code",
      "source": [
        "c = 3.0\n",
        "print(type(c))"
      ],
      "metadata": {
        "id": "QWkl9aA9TTq2",
        "colab": {
          "base_uri": "https://localhost:8080/"
        },
        "outputId": "0c23f886-0d27-4b05-d9ba-9a13bfd3c40c"
      },
      "execution_count": null,
      "outputs": [
        {
          "output_type": "stream",
          "name": "stdout",
          "text": [
            "<class 'float'>\n"
          ]
        }
      ]
    },
    {
      "cell_type": "code",
      "source": [
        "d = -3.5\n",
        "print(type(c))"
      ],
      "metadata": {
        "id": "_2kv04k-eKdC",
        "colab": {
          "base_uri": "https://localhost:8080/"
        },
        "outputId": "c0db0785-620f-47cb-f1d1-b114562575af"
      },
      "execution_count": null,
      "outputs": [
        {
          "output_type": "stream",
          "name": "stdout",
          "text": [
            "<class 'float'>\n"
          ]
        }
      ]
    },
    {
      "cell_type": "markdown",
      "source": [
        "### string"
      ],
      "metadata": {
        "id": "ecsS3if6T9Ax"
      }
    },
    {
      "cell_type": "code",
      "source": [
        "a = 'I like cats'\n",
        "b = \"I dont like dog\""
      ],
      "metadata": {
        "id": "fX5LRs8ETf7e"
      },
      "execution_count": null,
      "outputs": []
    },
    {
      "cell_type": "code",
      "source": [
        "print(type(a))"
      ],
      "metadata": {
        "id": "QYAb9dYkUI71",
        "colab": {
          "base_uri": "https://localhost:8080/"
        },
        "outputId": "f6fdba1b-a2f0-43c3-b877-bc005c124e0d"
      },
      "execution_count": null,
      "outputs": [
        {
          "output_type": "stream",
          "name": "stdout",
          "text": [
            "<class 'str'>\n"
          ]
        }
      ]
    },
    {
      "cell_type": "code",
      "source": [
        "print(type(b))"
      ],
      "metadata": {
        "id": "jMqrsb6OUKD3",
        "colab": {
          "base_uri": "https://localhost:8080/"
        },
        "outputId": "a1d4293e-2811-485c-fa7d-af25a0c9960c"
      },
      "execution_count": null,
      "outputs": [
        {
          "output_type": "stream",
          "name": "stdout",
          "text": [
            "<class 'str'>\n"
          ]
        }
      ]
    },
    {
      "cell_type": "code",
      "source": [
        "b = 'I don't like dog'"
      ],
      "metadata": {
        "id": "9anASzX7UK_0",
        "colab": {
          "base_uri": "https://localhost:8080/",
          "height": 110
        },
        "outputId": "7ec93835-953e-457a-c86c-4c4bc347286a"
      },
      "execution_count": null,
      "outputs": [
        {
          "output_type": "error",
          "ename": "SyntaxError",
          "evalue": "unterminated string literal (detected at line 1) (<ipython-input-13-cc79ed0c209c>, line 1)",
          "traceback": [
            "\u001b[0;36m  File \u001b[0;32m\"<ipython-input-13-cc79ed0c209c>\"\u001b[0;36m, line \u001b[0;32m1\u001b[0m\n\u001b[0;31m    b = 'I don't like dog'\u001b[0m\n\u001b[0m                         ^\u001b[0m\n\u001b[0;31mSyntaxError\u001b[0m\u001b[0;31m:\u001b[0m unterminated string literal (detected at line 1)\n"
          ]
        }
      ]
    },
    {
      "cell_type": "code",
      "source": [
        "# \"\\\" can be used as an escape character:\n",
        "b = 'I don\\'t like dog'\n",
        "print(b)"
      ],
      "metadata": {
        "id": "Cej9yPuLUeY5",
        "colab": {
          "base_uri": "https://localhost:8080/"
        },
        "outputId": "d354ac50-c4ac-47d7-fa85-4af5dbb156af"
      },
      "execution_count": null,
      "outputs": [
        {
          "output_type": "stream",
          "name": "stdout",
          "text": [
            "I don't like dog\n"
          ]
        }
      ]
    },
    {
      "cell_type": "code",
      "source": [
        "b = \"I don't like dog\"\n",
        "print(b)"
      ],
      "metadata": {
        "id": "qx5UWzwcUk7a",
        "colab": {
          "base_uri": "https://localhost:8080/"
        },
        "outputId": "ce9f1593-5ac4-4f2f-fc9d-5ee95151034c"
      },
      "execution_count": null,
      "outputs": [
        {
          "output_type": "stream",
          "name": "stdout",
          "text": [
            "I don't like dog\n"
          ]
        }
      ]
    },
    {
      "cell_type": "code",
      "source": [
        "c = \"I like cats.I dont like dogs.\"\n",
        "print(c)"
      ],
      "metadata": {
        "id": "qQR4TgonUoX4",
        "colab": {
          "base_uri": "https://localhost:8080/"
        },
        "outputId": "3ab29cc4-8497-43ac-ac62-323e9f321cfe"
      },
      "execution_count": null,
      "outputs": [
        {
          "output_type": "stream",
          "name": "stdout",
          "text": [
            "I like cats.I dont like dogs.\n"
          ]
        }
      ]
    },
    {
      "cell_type": "code",
      "source": [
        "c = \"I like cats.\\nI dont like dogs.\"\n",
        "print(c)"
      ],
      "metadata": {
        "id": "dBtqH7CNVMKY",
        "colab": {
          "base_uri": "https://localhost:8080/"
        },
        "outputId": "6f311d08-8ba4-4025-890e-eafc8f2e1fb2"
      },
      "execution_count": null,
      "outputs": [
        {
          "output_type": "stream",
          "name": "stdout",
          "text": [
            "I like cats.\n",
            "I dont like dogs.\n"
          ]
        }
      ]
    },
    {
      "cell_type": "code",
      "source": [
        "c = \"I like cats.\\tI dont like dogs.\"\n",
        "print(c)"
      ],
      "metadata": {
        "id": "H_xQfdbZVSif",
        "colab": {
          "base_uri": "https://localhost:8080/"
        },
        "outputId": "6bb725d4-bf8c-410e-dd8b-5103e619cdce"
      },
      "execution_count": null,
      "outputs": [
        {
          "output_type": "stream",
          "name": "stdout",
          "text": [
            "I like cats.\tI dont like dogs.\n"
          ]
        }
      ]
    },
    {
      "cell_type": "code",
      "source": [
        "c = \"I like \"cats\"\"\n",
        "print(c)"
      ],
      "metadata": {
        "id": "xCF5OTYYV3ll",
        "colab": {
          "base_uri": "https://localhost:8080/",
          "height": 110
        },
        "outputId": "5465695c-4eb3-40a9-e966-5b174e3b3ee6"
      },
      "execution_count": null,
      "outputs": [
        {
          "output_type": "error",
          "ename": "SyntaxError",
          "evalue": "invalid syntax (<ipython-input-19-cdbf2495b761>, line 1)",
          "traceback": [
            "\u001b[0;36m  File \u001b[0;32m\"<ipython-input-19-cdbf2495b761>\"\u001b[0;36m, line \u001b[0;32m1\u001b[0m\n\u001b[0;31m    c = \"I like \"cats\"\"\u001b[0m\n\u001b[0m                 ^\u001b[0m\n\u001b[0;31mSyntaxError\u001b[0m\u001b[0;31m:\u001b[0m invalid syntax\n"
          ]
        }
      ]
    },
    {
      "cell_type": "code",
      "source": [
        "c = \"I like \\\"cats\\\"\"\n",
        "print(c)"
      ],
      "metadata": {
        "id": "em8xd9t9WKEP",
        "colab": {
          "base_uri": "https://localhost:8080/"
        },
        "outputId": "d5657876-b603-4c92-bbea-a8cb7e9ebc83"
      },
      "execution_count": null,
      "outputs": [
        {
          "output_type": "stream",
          "name": "stdout",
          "text": [
            "I like \"cats\"\n"
          ]
        }
      ]
    },
    {
      "cell_type": "markdown",
      "source": [
        "### Bool"
      ],
      "metadata": {
        "id": "qenPpqDDXPbs"
      }
    },
    {
      "cell_type": "code",
      "source": [
        "a = True\n",
        "b = False\n",
        "\n",
        "print(type(a))\n",
        "print(type(b))"
      ],
      "metadata": {
        "id": "W7yHlzV7XSDr",
        "colab": {
          "base_uri": "https://localhost:8080/"
        },
        "outputId": "bdca85ff-db3a-441e-b083-cd18c546f833"
      },
      "execution_count": null,
      "outputs": [
        {
          "output_type": "stream",
          "name": "stdout",
          "text": [
            "<class 'bool'>\n",
            "<class 'bool'>\n"
          ]
        }
      ]
    },
    {
      "cell_type": "markdown",
      "source": [
        "### None"
      ],
      "metadata": {
        "id": "2TMeAM7qXpdz"
      }
    },
    {
      "cell_type": "code",
      "source": [
        "a = None\n",
        "print(type(a))"
      ],
      "metadata": {
        "id": "brNZlLQyXWyz",
        "colab": {
          "base_uri": "https://localhost:8080/"
        },
        "outputId": "f5390af2-2d55-4ef7-b5c1-d6e755d95e51"
      },
      "execution_count": null,
      "outputs": [
        {
          "output_type": "stream",
          "name": "stdout",
          "text": [
            "<class 'NoneType'>\n"
          ]
        }
      ]
    },
    {
      "cell_type": "code",
      "source": [
        "#In dataset we have columns of different types (kyc) (name (str), age (int), height (float), verified (bool))"
      ],
      "metadata": {
        "id": "DqhwJ4ucZRSd"
      },
      "execution_count": null,
      "outputs": []
    },
    {
      "cell_type": "markdown",
      "source": [
        "# Rules and Best Practices for Naming Variables in Python\n",
        "\n",
        "---\n",
        "\n",
        "## **Rules (Mandatory)**\n",
        "1. **Start with a letter or an underscore**:  \n",
        "   Variable names must begin with a letter (a-z, A-Z) or an underscore (`_`).  \n",
        "   - ✅ Valid: `name`, `_age`\n",
        "   - ❌ Invalid: `1name`, `-value`\n",
        "\n",
        "2. **Contain only letters, numbers, and underscores**:  \n",
        "   Variable names can include letters, numbers, and underscores, but no special characters or spaces.  \n",
        "   - ✅ Valid: `user_name`, `age2`\n",
        "   - ❌ Invalid: `user-name`, `age!`\n",
        "\n",
        "3. **Cannot be a Python keyword**:  \n",
        "   Reserved words (e.g., `if`, `while`, `return`) cannot be used as variable names.  \n",
        "   - ❌ Invalid: `if`, `class`\n",
        "\n",
        "4. **Case-sensitive**:  \n",
        "   Python distinguishes between uppercase and lowercase letters.  \n",
        "   - Example: `Name` and `name` are two different variables.\n",
        "\n",
        "---\n",
        "\n",
        "## **Best Practices (Recommended)**\n",
        "1. **Use descriptive names**:  \n",
        "   Choose meaningful names that describe the variable's purpose.  \n",
        "   - ✅ Good: `total_cost`, `user_age`\n",
        "   - ❌ Bad: `x`, `a1`\n",
        "\n",
        "2. **Follow snake_case convention**:  \n",
        "   Use lowercase letters and underscores to separate words.  \n",
        "   - ✅ Good: `user_name`, `max_value`\n",
        "   - ❌ Bad: `userName` (camelCase, used in other languages)\n",
        "\n",
        "3. **Avoid starting with underscores unless necessary**:  \n",
        "   Names starting with `_` have special meanings (e.g., `_private_var`). Use them only for internal purposes.\n",
        "\n",
        "4. **Be consistent**:  \n",
        "   Stick to one naming style (e.g., always use `snake_case`).\n",
        "\n",
        "5. **Use singular or plural forms appropriately**:  \n",
        "   Use singular names for single items and plural for collections.  \n",
        "   - Example: `user` for one user, `users` for a list of users.\n",
        "\n",
        "6. **Avoid single-letter names (except for loops)**:  \n",
        "   Single-character names like `x`, `y`, or `i` are acceptable only in short loops. Use descriptive names elsewhere.  \n",
        "   - ✅ Good: `for index in range(5):`\n",
        "   - ❌ Bad: `for i in range(5):`\n",
        "\n",
        "7. **Avoid using built-in function names**:  \n",
        "   Don’t name variables after Python's built-in functions like `list`, `str`, `input`.  \n",
        "   - ❌ Invalid: `list = [1, 2, 3]`\n",
        "\n",
        "8. **Use constants for fixed values**:  \n",
        "   Variables that don't change should be written in uppercase with underscores.  \n",
        "   - Example: `PI = 3.14`, `MAX_USERS = 100`\n",
        "\n",
        "---"
      ],
      "metadata": {
        "id": "V6jWHt-KakxX"
      }
    },
    {
      "cell_type": "markdown",
      "source": [
        "# Operators"
      ],
      "metadata": {
        "id": "egl5OZmPWiHo"
      }
    },
    {
      "cell_type": "markdown",
      "source": [
        "### \"+\" addition"
      ],
      "metadata": {
        "id": "bLDKUFM4Zf7B"
      }
    },
    {
      "cell_type": "code",
      "source": [
        "a = 3 # int\n",
        "aa = 4\n",
        "print(a,aa)"
      ],
      "metadata": {
        "id": "m_cDVH1JZeI6",
        "colab": {
          "base_uri": "https://localhost:8080/"
        },
        "outputId": "3cbad21e-16ad-40d6-cd72-05e3db1d6a84"
      },
      "execution_count": null,
      "outputs": [
        {
          "output_type": "stream",
          "name": "stdout",
          "text": [
            "3 4\n"
          ]
        }
      ]
    },
    {
      "cell_type": "code",
      "source": [
        "a + aa # 3 + 4"
      ],
      "metadata": {
        "id": "EYal4gLZbp3t",
        "colab": {
          "base_uri": "https://localhost:8080/"
        },
        "outputId": "59511dae-0b1b-45c4-9d4e-65dbfe508df1"
      },
      "execution_count": null,
      "outputs": [
        {
          "output_type": "execute_result",
          "data": {
            "text/plain": [
              "7"
            ]
          },
          "metadata": {},
          "execution_count": 25
        }
      ]
    },
    {
      "cell_type": "code",
      "source": [
        "a + a + aa # 3 + 3 + 4"
      ],
      "metadata": {
        "id": "3ibLo-Aabsm5",
        "colab": {
          "base_uri": "https://localhost:8080/"
        },
        "outputId": "89ee05f3-98df-4d44-a890-45796942e212"
      },
      "execution_count": null,
      "outputs": [
        {
          "output_type": "execute_result",
          "data": {
            "text/plain": [
              "10"
            ]
          },
          "metadata": {},
          "execution_count": 26
        }
      ]
    },
    {
      "cell_type": "code",
      "source": [
        "b = 4.5 # float\n",
        "bb = 4.7"
      ],
      "metadata": {
        "id": "2nWmcykjbvwN"
      },
      "execution_count": null,
      "outputs": []
    },
    {
      "cell_type": "code",
      "source": [
        "b + bb # 4.5 + 4.7"
      ],
      "metadata": {
        "id": "NPum_teXcE5s",
        "colab": {
          "base_uri": "https://localhost:8080/"
        },
        "outputId": "737096ac-4960-4c93-c4db-169800e7266c"
      },
      "execution_count": null,
      "outputs": [
        {
          "output_type": "execute_result",
          "data": {
            "text/plain": [
              "9.2"
            ]
          },
          "metadata": {},
          "execution_count": 28
        }
      ]
    },
    {
      "cell_type": "code",
      "source": [
        "a + aa + b + bb #  3 + 4 + 4.5 + 4.7"
      ],
      "metadata": {
        "id": "Rrcb3JqycWPg",
        "colab": {
          "base_uri": "https://localhost:8080/"
        },
        "outputId": "445dc82b-b363-4f1c-c6e6-0681e32d77d3"
      },
      "execution_count": null,
      "outputs": [
        {
          "output_type": "execute_result",
          "data": {
            "text/plain": [
              "16.2"
            ]
          },
          "metadata": {},
          "execution_count": 29
        }
      ]
    },
    {
      "cell_type": "code",
      "source": [
        "c = \"hello\" # string\n",
        "cc = \"world\""
      ],
      "metadata": {
        "id": "DOPGWo1icKmx"
      },
      "execution_count": null,
      "outputs": []
    },
    {
      "cell_type": "code",
      "source": [
        "c + a # \"hello\" + 3 = error"
      ],
      "metadata": {
        "id": "POFOB7Slcrbs",
        "colab": {
          "base_uri": "https://localhost:8080/",
          "height": 147
        },
        "outputId": "9afeb866-a3e1-4d31-e693-8d1dc14065b5"
      },
      "execution_count": null,
      "outputs": [
        {
          "output_type": "error",
          "ename": "TypeError",
          "evalue": "can only concatenate str (not \"int\") to str",
          "traceback": [
            "\u001b[0;31m---------------------------------------------------------------------------\u001b[0m",
            "\u001b[0;31mTypeError\u001b[0m                                 Traceback (most recent call last)",
            "\u001b[0;32m<ipython-input-31-713e4be5238f>\u001b[0m in \u001b[0;36m<cell line: 1>\u001b[0;34m()\u001b[0m\n\u001b[0;32m----> 1\u001b[0;31m \u001b[0mc\u001b[0m \u001b[0;34m+\u001b[0m \u001b[0ma\u001b[0m \u001b[0;31m# \"hello\" + 3 = error\u001b[0m\u001b[0;34m\u001b[0m\u001b[0;34m\u001b[0m\u001b[0m\n\u001b[0m",
            "\u001b[0;31mTypeError\u001b[0m: can only concatenate str (not \"int\") to str"
          ]
        }
      ]
    },
    {
      "cell_type": "code",
      "source": [
        "c + cc # \"hello\" + \"world\""
      ],
      "metadata": {
        "id": "_NM04vCmcxsJ",
        "colab": {
          "base_uri": "https://localhost:8080/",
          "height": 36
        },
        "outputId": "fa381856-bda2-4a2e-f2fb-80b7f7d87844"
      },
      "execution_count": null,
      "outputs": [
        {
          "output_type": "execute_result",
          "data": {
            "text/plain": [
              "'helloworld'"
            ],
            "application/vnd.google.colaboratory.intrinsic+json": {
              "type": "string"
            }
          },
          "metadata": {},
          "execution_count": 32
        }
      ]
    },
    {
      "cell_type": "code",
      "source": [
        "c + c + cc # \"hello\" + \"hello\" + \"world\""
      ],
      "metadata": {
        "id": "-RI8nSnZcxvK",
        "colab": {
          "base_uri": "https://localhost:8080/",
          "height": 36
        },
        "outputId": "565edc47-506c-4453-b1cd-16e10d424dca"
      },
      "execution_count": null,
      "outputs": [
        {
          "output_type": "execute_result",
          "data": {
            "text/plain": [
              "'hellohelloworld'"
            ],
            "application/vnd.google.colaboratory.intrinsic+json": {
              "type": "string"
            }
          },
          "metadata": {},
          "execution_count": 33
        }
      ]
    },
    {
      "cell_type": "code",
      "source": [
        "cc = \"4\"\n",
        "print(type(cc))"
      ],
      "metadata": {
        "id": "3ZkFMIaIdDLx",
        "colab": {
          "base_uri": "https://localhost:8080/"
        },
        "outputId": "e0de90c5-4c59-4471-cde4-0cf251f020fd"
      },
      "execution_count": null,
      "outputs": [
        {
          "output_type": "stream",
          "name": "stdout",
          "text": [
            "<class 'str'>\n"
          ]
        }
      ]
    },
    {
      "cell_type": "code",
      "source": [
        "c + cc # \"hello\" + \"4\""
      ],
      "metadata": {
        "id": "WN_PHWdDfGlO",
        "colab": {
          "base_uri": "https://localhost:8080/",
          "height": 36
        },
        "outputId": "c71146b8-0ba2-45fe-c876-f0305eb66f8b"
      },
      "execution_count": null,
      "outputs": [
        {
          "output_type": "execute_result",
          "data": {
            "text/plain": [
              "'hello4'"
            ],
            "application/vnd.google.colaboratory.intrinsic+json": {
              "type": "string"
            }
          },
          "metadata": {},
          "execution_count": 35
        }
      ]
    },
    {
      "cell_type": "code",
      "source": [
        "d = True\n",
        "dd = False\n",
        "d + a # True + 3"
      ],
      "metadata": {
        "id": "gaGKhb9tidj6",
        "colab": {
          "base_uri": "https://localhost:8080/"
        },
        "outputId": "8f4e315d-1ad6-45e5-a06c-02c7a338eebd"
      },
      "execution_count": null,
      "outputs": [
        {
          "output_type": "execute_result",
          "data": {
            "text/plain": [
              "4"
            ]
          },
          "metadata": {},
          "execution_count": 36
        }
      ]
    },
    {
      "cell_type": "code",
      "source": [
        "d + d # True + True"
      ],
      "metadata": {
        "id": "fmWO28esiz37",
        "colab": {
          "base_uri": "https://localhost:8080/"
        },
        "outputId": "28cf4070-b87b-4839-ec86-4a26d0c91ba3"
      },
      "execution_count": null,
      "outputs": [
        {
          "output_type": "execute_result",
          "data": {
            "text/plain": [
              "2"
            ]
          },
          "metadata": {},
          "execution_count": 37
        }
      ]
    },
    {
      "cell_type": "code",
      "source": [
        "dd + a # False + 3"
      ],
      "metadata": {
        "id": "dhBrtNAYiiUD",
        "colab": {
          "base_uri": "https://localhost:8080/"
        },
        "outputId": "565b2652-95d7-405f-aade-0d33a5adabac"
      },
      "execution_count": null,
      "outputs": [
        {
          "output_type": "execute_result",
          "data": {
            "text/plain": [
              "3"
            ]
          },
          "metadata": {},
          "execution_count": 38
        }
      ]
    },
    {
      "cell_type": "code",
      "source": [
        "dd + dd # False + False"
      ],
      "metadata": {
        "id": "uxdXY69Oi9di",
        "colab": {
          "base_uri": "https://localhost:8080/"
        },
        "outputId": "02059f99-2e7c-446c-8b87-2e7171e9b6d4"
      },
      "execution_count": null,
      "outputs": [
        {
          "output_type": "execute_result",
          "data": {
            "text/plain": [
              "0"
            ]
          },
          "metadata": {},
          "execution_count": 39
        }
      ]
    },
    {
      "cell_type": "code",
      "source": [
        "e = None\n",
        "\n",
        "e + e # None + None"
      ],
      "metadata": {
        "id": "SHhzYv10ixTN",
        "colab": {
          "base_uri": "https://localhost:8080/",
          "height": 183
        },
        "outputId": "def3829f-f8c2-421c-b308-36c2961731b7"
      },
      "execution_count": null,
      "outputs": [
        {
          "output_type": "error",
          "ename": "TypeError",
          "evalue": "unsupported operand type(s) for +: 'NoneType' and 'NoneType'",
          "traceback": [
            "\u001b[0;31m---------------------------------------------------------------------------\u001b[0m",
            "\u001b[0;31mTypeError\u001b[0m                                 Traceback (most recent call last)",
            "\u001b[0;32m<ipython-input-40-4e20df23a897>\u001b[0m in \u001b[0;36m<cell line: 3>\u001b[0;34m()\u001b[0m\n\u001b[1;32m      1\u001b[0m \u001b[0me\u001b[0m \u001b[0;34m=\u001b[0m \u001b[0;32mNone\u001b[0m\u001b[0;34m\u001b[0m\u001b[0;34m\u001b[0m\u001b[0m\n\u001b[1;32m      2\u001b[0m \u001b[0;34m\u001b[0m\u001b[0m\n\u001b[0;32m----> 3\u001b[0;31m \u001b[0me\u001b[0m \u001b[0;34m+\u001b[0m \u001b[0me\u001b[0m \u001b[0;31m# None + None\u001b[0m\u001b[0;34m\u001b[0m\u001b[0;34m\u001b[0m\u001b[0m\n\u001b[0m",
            "\u001b[0;31mTypeError\u001b[0m: unsupported operand type(s) for +: 'NoneType' and 'NoneType'"
          ]
        }
      ]
    },
    {
      "cell_type": "code",
      "source": [
        "e + a # None + 3"
      ],
      "metadata": {
        "id": "tved0IYKjN_g",
        "colab": {
          "base_uri": "https://localhost:8080/",
          "height": 147
        },
        "outputId": "fdcaa4af-3c20-4606-ae3f-ffce482ae279"
      },
      "execution_count": null,
      "outputs": [
        {
          "output_type": "error",
          "ename": "TypeError",
          "evalue": "unsupported operand type(s) for +: 'NoneType' and 'int'",
          "traceback": [
            "\u001b[0;31m---------------------------------------------------------------------------\u001b[0m",
            "\u001b[0;31mTypeError\u001b[0m                                 Traceback (most recent call last)",
            "\u001b[0;32m<ipython-input-41-82ee18fca513>\u001b[0m in \u001b[0;36m<cell line: 1>\u001b[0;34m()\u001b[0m\n\u001b[0;32m----> 1\u001b[0;31m \u001b[0me\u001b[0m \u001b[0;34m+\u001b[0m \u001b[0ma\u001b[0m \u001b[0;31m# None + 3\u001b[0m\u001b[0;34m\u001b[0m\u001b[0;34m\u001b[0m\u001b[0m\n\u001b[0m",
            "\u001b[0;31mTypeError\u001b[0m: unsupported operand type(s) for +: 'NoneType' and 'int'"
          ]
        }
      ]
    },
    {
      "cell_type": "markdown",
      "source": [
        "### \"-\" subtraction"
      ],
      "metadata": {
        "id": "qoEwSnHqb417"
      }
    },
    {
      "cell_type": "code",
      "source": [
        "a = 3 # int\n",
        "aa = 4\n",
        "print(a,aa)"
      ],
      "metadata": {
        "id": "s5zPisqcdd3M",
        "colab": {
          "base_uri": "https://localhost:8080/"
        },
        "outputId": "992d5998-837a-438b-b530-3d947323583d"
      },
      "execution_count": null,
      "outputs": [
        {
          "output_type": "stream",
          "name": "stdout",
          "text": [
            "3 4\n"
          ]
        }
      ]
    },
    {
      "cell_type": "code",
      "source": [
        "a - aa # 3 - 4"
      ],
      "metadata": {
        "id": "0VaCngbIdd7D",
        "colab": {
          "base_uri": "https://localhost:8080/"
        },
        "outputId": "538a55ec-6886-4f46-e9cc-6f44e3ecc8c6"
      },
      "execution_count": null,
      "outputs": [
        {
          "output_type": "execute_result",
          "data": {
            "text/plain": [
              "-1"
            ]
          },
          "metadata": {},
          "execution_count": 43
        }
      ]
    },
    {
      "cell_type": "code",
      "source": [
        "aa - a # 4 - 3"
      ],
      "metadata": {
        "id": "64vS7ma0dhdl",
        "colab": {
          "base_uri": "https://localhost:8080/"
        },
        "outputId": "e3d4cbd0-f03a-4558-c13a-a2553cb3d913"
      },
      "execution_count": null,
      "outputs": [
        {
          "output_type": "execute_result",
          "data": {
            "text/plain": [
              "1"
            ]
          },
          "metadata": {},
          "execution_count": 44
        }
      ]
    },
    {
      "cell_type": "code",
      "source": [
        "b = 4.5 # float"
      ],
      "metadata": {
        "id": "zo1DPzACdiWe"
      },
      "execution_count": null,
      "outputs": []
    },
    {
      "cell_type": "code",
      "source": [
        "a - aa - b # 3 - 4 - 4.5"
      ],
      "metadata": {
        "id": "rMu5rolidmj1",
        "colab": {
          "base_uri": "https://localhost:8080/"
        },
        "outputId": "b5f2269a-fd68-461f-de75-eb407fac1afd"
      },
      "execution_count": null,
      "outputs": [
        {
          "output_type": "execute_result",
          "data": {
            "text/plain": [
              "-5.5"
            ]
          },
          "metadata": {},
          "execution_count": 46
        }
      ]
    },
    {
      "cell_type": "code",
      "source": [
        "a = -3\n",
        "b = 4\n",
        "bb = -4.5"
      ],
      "metadata": {
        "id": "ATX8te6ydoWp"
      },
      "execution_count": null,
      "outputs": []
    },
    {
      "cell_type": "code",
      "source": [
        "a - b # -3 - 4"
      ],
      "metadata": {
        "id": "FzhYEsFZfiZj",
        "colab": {
          "base_uri": "https://localhost:8080/"
        },
        "outputId": "ba958b3e-3d5d-48c2-82a3-471f4ccdee35"
      },
      "execution_count": null,
      "outputs": [
        {
          "output_type": "execute_result",
          "data": {
            "text/plain": [
              "-7"
            ]
          },
          "metadata": {},
          "execution_count": 48
        }
      ]
    },
    {
      "cell_type": "code",
      "source": [
        "a - bb # -3 - (-4.5)"
      ],
      "metadata": {
        "id": "MBuMCG9BfpJV",
        "colab": {
          "base_uri": "https://localhost:8080/"
        },
        "outputId": "b730b06f-0b97-4630-ae2a-e01c35a2f305"
      },
      "execution_count": null,
      "outputs": [
        {
          "output_type": "execute_result",
          "data": {
            "text/plain": [
              "1.5"
            ]
          },
          "metadata": {},
          "execution_count": 49
        }
      ]
    },
    {
      "cell_type": "code",
      "source": [
        "c = \"hello\" # string"
      ],
      "metadata": {
        "id": "JpgildvTfu84"
      },
      "execution_count": null,
      "outputs": []
    },
    {
      "cell_type": "code",
      "source": [
        "c - c"
      ],
      "metadata": {
        "id": "M8PM8x9wf9Gg",
        "colab": {
          "base_uri": "https://localhost:8080/",
          "height": 147
        },
        "outputId": "304bf791-f170-4f13-b929-56a79c7d9fd4"
      },
      "execution_count": null,
      "outputs": [
        {
          "output_type": "error",
          "ename": "TypeError",
          "evalue": "unsupported operand type(s) for -: 'str' and 'str'",
          "traceback": [
            "\u001b[0;31m---------------------------------------------------------------------------\u001b[0m",
            "\u001b[0;31mTypeError\u001b[0m                                 Traceback (most recent call last)",
            "\u001b[0;32m<ipython-input-51-1984e685c33e>\u001b[0m in \u001b[0;36m<cell line: 1>\u001b[0;34m()\u001b[0m\n\u001b[0;32m----> 1\u001b[0;31m \u001b[0mc\u001b[0m \u001b[0;34m-\u001b[0m \u001b[0mc\u001b[0m\u001b[0;34m\u001b[0m\u001b[0;34m\u001b[0m\u001b[0m\n\u001b[0m",
            "\u001b[0;31mTypeError\u001b[0m: unsupported operand type(s) for -: 'str' and 'str'"
          ]
        }
      ]
    },
    {
      "cell_type": "code",
      "source": [
        "d = True\n",
        "dd = False\n",
        "d - a # True - (-3)"
      ],
      "metadata": {
        "id": "5PIvC2fojbo1",
        "colab": {
          "base_uri": "https://localhost:8080/"
        },
        "outputId": "6476f903-fdcd-48bf-a901-0da9f821d11e"
      },
      "execution_count": null,
      "outputs": [
        {
          "output_type": "execute_result",
          "data": {
            "text/plain": [
              "4"
            ]
          },
          "metadata": {},
          "execution_count": 52
        }
      ]
    },
    {
      "cell_type": "code",
      "source": [
        "dd - a # False - (-3)"
      ],
      "metadata": {
        "id": "LtsFiSq6jwVX",
        "colab": {
          "base_uri": "https://localhost:8080/"
        },
        "outputId": "c07c2228-5ae4-4c8a-99ab-c4b148e8b0f5"
      },
      "execution_count": null,
      "outputs": [
        {
          "output_type": "execute_result",
          "data": {
            "text/plain": [
              "3"
            ]
          },
          "metadata": {},
          "execution_count": 53
        }
      ]
    },
    {
      "cell_type": "markdown",
      "source": [
        "### \"*\" multiplication"
      ],
      "metadata": {
        "id": "jkJnf2KTgFWx"
      }
    },
    {
      "cell_type": "code",
      "source": [
        "a = 3"
      ],
      "metadata": {
        "id": "Vbla8yerf_YT"
      },
      "execution_count": null,
      "outputs": []
    },
    {
      "cell_type": "code",
      "source": [
        "a * a # 3 * 3"
      ],
      "metadata": {
        "id": "dDWyQeDAgYOB",
        "colab": {
          "base_uri": "https://localhost:8080/"
        },
        "outputId": "97b0df99-725a-4698-e0ae-9043f17b1473"
      },
      "execution_count": null,
      "outputs": [
        {
          "output_type": "execute_result",
          "data": {
            "text/plain": [
              "9"
            ]
          },
          "metadata": {},
          "execution_count": 55
        }
      ]
    },
    {
      "cell_type": "code",
      "source": [
        "aa = -3\n",
        "a * aa # 3 * -3"
      ],
      "metadata": {
        "id": "IWAsutxQgakw",
        "colab": {
          "base_uri": "https://localhost:8080/"
        },
        "outputId": "e1eeef6f-6ead-4d7b-8030-c058f3dd2b23"
      },
      "execution_count": null,
      "outputs": [
        {
          "output_type": "execute_result",
          "data": {
            "text/plain": [
              "-9"
            ]
          },
          "metadata": {},
          "execution_count": 56
        }
      ]
    },
    {
      "cell_type": "code",
      "source": [
        "aa * aa # -3 * -3"
      ],
      "metadata": {
        "id": "Qrlyt4yngnxl",
        "colab": {
          "base_uri": "https://localhost:8080/"
        },
        "outputId": "31066d05-798c-44f3-b034-a93368a1f458"
      },
      "execution_count": null,
      "outputs": [
        {
          "output_type": "execute_result",
          "data": {
            "text/plain": [
              "9"
            ]
          },
          "metadata": {},
          "execution_count": 57
        }
      ]
    },
    {
      "cell_type": "code",
      "source": [
        "b = 3.5"
      ],
      "metadata": {
        "id": "gHQHBtF1gsft"
      },
      "execution_count": null,
      "outputs": []
    },
    {
      "cell_type": "code",
      "source": [
        "a * b # 3 * 3.5"
      ],
      "metadata": {
        "id": "nr1I5QP_guYW",
        "colab": {
          "base_uri": "https://localhost:8080/"
        },
        "outputId": "0b89aefe-2430-47ee-af66-e2e666d167b8"
      },
      "execution_count": null,
      "outputs": [
        {
          "output_type": "execute_result",
          "data": {
            "text/plain": [
              "10.5"
            ]
          },
          "metadata": {},
          "execution_count": 59
        }
      ]
    },
    {
      "cell_type": "code",
      "source": [
        "s = \"abc\""
      ],
      "metadata": {
        "id": "GgZCdQG6gv4U"
      },
      "execution_count": null,
      "outputs": []
    },
    {
      "cell_type": "code",
      "source": [
        "s * s # \"abc\" * \"abc\""
      ],
      "metadata": {
        "id": "1uIz87Cyg5-4",
        "colab": {
          "base_uri": "https://localhost:8080/",
          "height": 147
        },
        "outputId": "a12d60bc-848b-4276-b2fd-317b383aafe8"
      },
      "execution_count": null,
      "outputs": [
        {
          "output_type": "error",
          "ename": "TypeError",
          "evalue": "can't multiply sequence by non-int of type 'str'",
          "traceback": [
            "\u001b[0;31m---------------------------------------------------------------------------\u001b[0m",
            "\u001b[0;31mTypeError\u001b[0m                                 Traceback (most recent call last)",
            "\u001b[0;32m<ipython-input-61-b9cc6728eaba>\u001b[0m in \u001b[0;36m<cell line: 1>\u001b[0;34m()\u001b[0m\n\u001b[0;32m----> 1\u001b[0;31m \u001b[0ms\u001b[0m \u001b[0;34m*\u001b[0m \u001b[0ms\u001b[0m \u001b[0;31m# \"abc\" * \"abc\"\u001b[0m\u001b[0;34m\u001b[0m\u001b[0;34m\u001b[0m\u001b[0m\n\u001b[0m",
            "\u001b[0;31mTypeError\u001b[0m: can't multiply sequence by non-int of type 'str'"
          ]
        }
      ]
    },
    {
      "cell_type": "code",
      "source": [
        "s * a # \"abc\" * 3"
      ],
      "metadata": {
        "id": "4YK294XIg4UC",
        "colab": {
          "base_uri": "https://localhost:8080/",
          "height": 36
        },
        "outputId": "12854e90-9777-4558-ba72-65b31a277cd2"
      },
      "execution_count": null,
      "outputs": [
        {
          "output_type": "execute_result",
          "data": {
            "text/plain": [
              "'abcabcabc'"
            ],
            "application/vnd.google.colaboratory.intrinsic+json": {
              "type": "string"
            }
          },
          "metadata": {},
          "execution_count": 62
        }
      ]
    },
    {
      "cell_type": "code",
      "source": [
        "s * 3.5 # \"abc\" * 3.5"
      ],
      "metadata": {
        "id": "eascz1rShCyQ",
        "colab": {
          "base_uri": "https://localhost:8080/",
          "height": 147
        },
        "outputId": "8571c914-40b7-4adf-a4b9-27e130beffac"
      },
      "execution_count": null,
      "outputs": [
        {
          "output_type": "error",
          "ename": "TypeError",
          "evalue": "can't multiply sequence by non-int of type 'float'",
          "traceback": [
            "\u001b[0;31m---------------------------------------------------------------------------\u001b[0m",
            "\u001b[0;31mTypeError\u001b[0m                                 Traceback (most recent call last)",
            "\u001b[0;32m<ipython-input-63-b3aa6e10c1c2>\u001b[0m in \u001b[0;36m<cell line: 1>\u001b[0;34m()\u001b[0m\n\u001b[0;32m----> 1\u001b[0;31m \u001b[0ms\u001b[0m \u001b[0;34m*\u001b[0m \u001b[0;36m3.5\u001b[0m \u001b[0;31m# \"abc\" * 3.5\u001b[0m\u001b[0;34m\u001b[0m\u001b[0;34m\u001b[0m\u001b[0m\n\u001b[0m",
            "\u001b[0;31mTypeError\u001b[0m: can't multiply sequence by non-int of type 'float'"
          ]
        }
      ]
    },
    {
      "cell_type": "code",
      "source": [
        "d = True\n",
        "dd = False\n",
        "d * dd # True * False"
      ],
      "metadata": {
        "id": "K91aIZZWkLID",
        "colab": {
          "base_uri": "https://localhost:8080/"
        },
        "outputId": "e17705bc-9dac-4e8e-a79b-0abeea887bcf"
      },
      "execution_count": null,
      "outputs": [
        {
          "output_type": "execute_result",
          "data": {
            "text/plain": [
              "0"
            ]
          },
          "metadata": {},
          "execution_count": 64
        }
      ]
    },
    {
      "cell_type": "code",
      "source": [
        "d * d # True * True"
      ],
      "metadata": {
        "id": "NBZNWWDokX7Q",
        "colab": {
          "base_uri": "https://localhost:8080/"
        },
        "outputId": "da8160e3-9d0a-4f04-e0b7-44548cf420b0"
      },
      "execution_count": null,
      "outputs": [
        {
          "output_type": "execute_result",
          "data": {
            "text/plain": [
              "1"
            ]
          },
          "metadata": {},
          "execution_count": 65
        }
      ]
    },
    {
      "cell_type": "markdown",
      "source": [
        "### \"/\" divison"
      ],
      "metadata": {
        "id": "_YBM1v_dhoA3"
      }
    },
    {
      "cell_type": "code",
      "source": [
        "a = 3\n",
        "b = 2"
      ],
      "metadata": {
        "id": "isE8GuTnhiFl"
      },
      "execution_count": null,
      "outputs": []
    },
    {
      "cell_type": "code",
      "source": [
        "a / a # 3 / 3"
      ],
      "metadata": {
        "id": "omglotc7hsEm",
        "colab": {
          "base_uri": "https://localhost:8080/"
        },
        "outputId": "e9cf194a-7b2e-4d52-d36e-5b0e42d6db7d"
      },
      "execution_count": null,
      "outputs": [
        {
          "output_type": "execute_result",
          "data": {
            "text/plain": [
              "1.0"
            ]
          },
          "metadata": {},
          "execution_count": 67
        }
      ]
    },
    {
      "cell_type": "code",
      "source": [
        "a / b # 3 / 2"
      ],
      "metadata": {
        "id": "G94Z0ypJhsts",
        "colab": {
          "base_uri": "https://localhost:8080/"
        },
        "outputId": "977b7b96-0947-45d8-fe72-ad6a3b681887"
      },
      "execution_count": null,
      "outputs": [
        {
          "output_type": "execute_result",
          "data": {
            "text/plain": [
              "1.5"
            ]
          },
          "metadata": {},
          "execution_count": 68
        }
      ]
    },
    {
      "cell_type": "code",
      "source": [
        "b = -2\n",
        "a / b # 3 / -2"
      ],
      "metadata": {
        "id": "qU7EjTWghxB9",
        "colab": {
          "base_uri": "https://localhost:8080/"
        },
        "outputId": "7f473dc3-d0ec-464b-e3b2-06baf1407277"
      },
      "execution_count": null,
      "outputs": [
        {
          "output_type": "execute_result",
          "data": {
            "text/plain": [
              "-1.5"
            ]
          },
          "metadata": {},
          "execution_count": 69
        }
      ]
    },
    {
      "cell_type": "code",
      "source": [
        "s = \"hello\"\n",
        "s / a # \"hello\" / 3"
      ],
      "metadata": {
        "id": "McWu_BWaiMbV",
        "colab": {
          "base_uri": "https://localhost:8080/",
          "height": 165
        },
        "outputId": "76548584-873d-4e68-cba0-3b74628ee1e5"
      },
      "execution_count": null,
      "outputs": [
        {
          "output_type": "error",
          "ename": "TypeError",
          "evalue": "unsupported operand type(s) for /: 'str' and 'int'",
          "traceback": [
            "\u001b[0;31m---------------------------------------------------------------------------\u001b[0m",
            "\u001b[0;31mTypeError\u001b[0m                                 Traceback (most recent call last)",
            "\u001b[0;32m<ipython-input-70-3a9d794f41df>\u001b[0m in \u001b[0;36m<cell line: 2>\u001b[0;34m()\u001b[0m\n\u001b[1;32m      1\u001b[0m \u001b[0ms\u001b[0m \u001b[0;34m=\u001b[0m \u001b[0;34m\"hello\"\u001b[0m\u001b[0;34m\u001b[0m\u001b[0;34m\u001b[0m\u001b[0m\n\u001b[0;32m----> 2\u001b[0;31m \u001b[0ms\u001b[0m \u001b[0;34m/\u001b[0m \u001b[0ma\u001b[0m \u001b[0;31m# \"hello\" / 3\u001b[0m\u001b[0;34m\u001b[0m\u001b[0;34m\u001b[0m\u001b[0m\n\u001b[0m",
            "\u001b[0;31mTypeError\u001b[0m: unsupported operand type(s) for /: 'str' and 'int'"
          ]
        }
      ]
    },
    {
      "cell_type": "code",
      "source": [
        "s / s # \"hello\" / \"hello\""
      ],
      "metadata": {
        "id": "5IUTFWfeiPBd",
        "colab": {
          "base_uri": "https://localhost:8080/",
          "height": 147
        },
        "outputId": "a142ba71-53c3-47b5-c603-b0c9e763ef93"
      },
      "execution_count": null,
      "outputs": [
        {
          "output_type": "error",
          "ename": "TypeError",
          "evalue": "unsupported operand type(s) for /: 'str' and 'str'",
          "traceback": [
            "\u001b[0;31m---------------------------------------------------------------------------\u001b[0m",
            "\u001b[0;31mTypeError\u001b[0m                                 Traceback (most recent call last)",
            "\u001b[0;32m<ipython-input-71-27096af5b97a>\u001b[0m in \u001b[0;36m<cell line: 1>\u001b[0;34m()\u001b[0m\n\u001b[0;32m----> 1\u001b[0;31m \u001b[0ms\u001b[0m \u001b[0;34m/\u001b[0m \u001b[0ms\u001b[0m \u001b[0;31m# \"hello\" / \"hello\"\u001b[0m\u001b[0;34m\u001b[0m\u001b[0;34m\u001b[0m\u001b[0m\n\u001b[0m",
            "\u001b[0;31mTypeError\u001b[0m: unsupported operand type(s) for /: 'str' and 'str'"
          ]
        }
      ]
    },
    {
      "cell_type": "code",
      "source": [
        "d = True\n",
        "dd = False\n",
        "d / dd # True / False"
      ],
      "metadata": {
        "id": "DdvOxIbniSdO",
        "colab": {
          "base_uri": "https://localhost:8080/",
          "height": 183
        },
        "outputId": "5ca04862-9b78-44b9-f060-26be57636a23"
      },
      "execution_count": null,
      "outputs": [
        {
          "output_type": "error",
          "ename": "ZeroDivisionError",
          "evalue": "division by zero",
          "traceback": [
            "\u001b[0;31m---------------------------------------------------------------------------\u001b[0m",
            "\u001b[0;31mZeroDivisionError\u001b[0m                         Traceback (most recent call last)",
            "\u001b[0;32m<ipython-input-72-eeac7f70f35c>\u001b[0m in \u001b[0;36m<cell line: 3>\u001b[0;34m()\u001b[0m\n\u001b[1;32m      1\u001b[0m \u001b[0md\u001b[0m \u001b[0;34m=\u001b[0m \u001b[0;32mTrue\u001b[0m\u001b[0;34m\u001b[0m\u001b[0;34m\u001b[0m\u001b[0m\n\u001b[1;32m      2\u001b[0m \u001b[0mdd\u001b[0m \u001b[0;34m=\u001b[0m \u001b[0;32mFalse\u001b[0m\u001b[0;34m\u001b[0m\u001b[0;34m\u001b[0m\u001b[0m\n\u001b[0;32m----> 3\u001b[0;31m \u001b[0md\u001b[0m \u001b[0;34m/\u001b[0m \u001b[0mdd\u001b[0m \u001b[0;31m# True / False\u001b[0m\u001b[0;34m\u001b[0m\u001b[0;34m\u001b[0m\u001b[0m\n\u001b[0m",
            "\u001b[0;31mZeroDivisionError\u001b[0m: division by zero"
          ]
        }
      ]
    },
    {
      "cell_type": "code",
      "source": [
        "d / d # True / True"
      ],
      "metadata": {
        "id": "VQLUzk5sktwe",
        "colab": {
          "base_uri": "https://localhost:8080/"
        },
        "outputId": "1fb83e10-9f83-4f17-9e2c-df0a1a56e881"
      },
      "execution_count": null,
      "outputs": [
        {
          "output_type": "execute_result",
          "data": {
            "text/plain": [
              "1.0"
            ]
          },
          "metadata": {},
          "execution_count": 73
        }
      ]
    },
    {
      "cell_type": "markdown",
      "source": [
        "### \"%\" modulus"
      ],
      "metadata": {
        "id": "Yf2mbv7mk6by"
      }
    },
    {
      "cell_type": "code",
      "source": [
        "a = 3\n",
        "b = 2"
      ],
      "metadata": {
        "id": "C0F9C-7zky4P"
      },
      "execution_count": null,
      "outputs": []
    },
    {
      "cell_type": "code",
      "source": [
        "a % a # 3 % 3"
      ],
      "metadata": {
        "id": "OaJKhJx1k_Hl",
        "colab": {
          "base_uri": "https://localhost:8080/"
        },
        "outputId": "ad310245-2f61-4c45-a5a7-e9e7b908fd7e"
      },
      "execution_count": null,
      "outputs": [
        {
          "output_type": "execute_result",
          "data": {
            "text/plain": [
              "0"
            ]
          },
          "metadata": {},
          "execution_count": 75
        }
      ]
    },
    {
      "cell_type": "code",
      "source": [
        "a % b # 3 % 2"
      ],
      "metadata": {
        "id": "Ab_4sKn1lDJ8",
        "colab": {
          "base_uri": "https://localhost:8080/"
        },
        "outputId": "226f66e1-92ee-417f-fddf-2e115ec1a61d"
      },
      "execution_count": null,
      "outputs": [
        {
          "output_type": "execute_result",
          "data": {
            "text/plain": [
              "1"
            ]
          },
          "metadata": {},
          "execution_count": 76
        }
      ]
    },
    {
      "cell_type": "markdown",
      "source": [
        "### \"**\" exponential"
      ],
      "metadata": {
        "id": "LONq78W9mADd"
      }
    },
    {
      "cell_type": "code",
      "source": [
        "a = 3\n",
        "b = 3"
      ],
      "metadata": {
        "id": "5YbeixetlRxU"
      },
      "execution_count": null,
      "outputs": []
    },
    {
      "cell_type": "code",
      "source": [
        "a * a * a # 3 * 3 * 3"
      ],
      "metadata": {
        "id": "y8KhLm0LmFCn",
        "colab": {
          "base_uri": "https://localhost:8080/"
        },
        "outputId": "303f8de2-3904-434d-b646-761f2da3fb6a"
      },
      "execution_count": null,
      "outputs": [
        {
          "output_type": "execute_result",
          "data": {
            "text/plain": [
              "27"
            ]
          },
          "metadata": {},
          "execution_count": 78
        }
      ]
    },
    {
      "cell_type": "code",
      "source": [
        "a ** b # 3 ** 3"
      ],
      "metadata": {
        "id": "kMVD4RcwmMQR",
        "colab": {
          "base_uri": "https://localhost:8080/"
        },
        "outputId": "f27f3c39-0658-4921-c2a2-24bf1cece185"
      },
      "execution_count": null,
      "outputs": [
        {
          "output_type": "execute_result",
          "data": {
            "text/plain": [
              "27"
            ]
          },
          "metadata": {},
          "execution_count": 79
        }
      ]
    },
    {
      "cell_type": "code",
      "source": [
        "a ** 100"
      ],
      "metadata": {
        "id": "Ytfkh2_imYI6",
        "colab": {
          "base_uri": "https://localhost:8080/"
        },
        "outputId": "4be40dd1-4921-49b7-cb72-09e1f8f3f9c4"
      },
      "execution_count": null,
      "outputs": [
        {
          "output_type": "execute_result",
          "data": {
            "text/plain": [
              "515377520732011331036461129765621272702107522001"
            ]
          },
          "metadata": {},
          "execution_count": 80
        }
      ]
    },
    {
      "cell_type": "code",
      "source": [
        "# In dataset we perform columns manipulation (rental dataset) (location coordinates, nearest_station coordinates)\n",
        "# calculate distance between location coordinates and nearest_station coordinates"
      ],
      "metadata": {
        "id": "YiebRLEX6bI6"
      },
      "execution_count": null,
      "outputs": []
    },
    {
      "cell_type": "markdown",
      "source": [
        "# String variable more"
      ],
      "metadata": {
        "id": "2HGixHFhzF3c"
      }
    },
    {
      "cell_type": "markdown",
      "source": [
        "### Printing strings with variables"
      ],
      "metadata": {
        "id": "hxE4IS3uzP_D"
      }
    },
    {
      "cell_type": "code",
      "source": [
        "a = 5\n",
        "b = 3\n",
        "\n",
        "print(\"value of a is a\")\n",
        "print(\"value of b is b\")\n",
        "\n",
        "print(f\"value of a is {a}\")\n",
        "print(f\"value of b is {b}\")"
      ],
      "metadata": {
        "id": "QDHxQvgD0fQ8",
        "colab": {
          "base_uri": "https://localhost:8080/"
        },
        "outputId": "379ec258-7766-4d7d-f818-257dc741e9e1"
      },
      "execution_count": null,
      "outputs": [
        {
          "output_type": "stream",
          "name": "stdout",
          "text": [
            "value of a is a\n",
            "value of b is b\n",
            "value of a is 5\n",
            "value of b is 3\n"
          ]
        }
      ]
    },
    {
      "cell_type": "code",
      "source": [
        "a = 5\n",
        "b = 3\n",
        "\n",
        "print(f\"Addition for {a} and {b} is {a + b}\")\n",
        "print(f\"Subtraction for {a} and {b} is {a - b}\")\n",
        "print(f\"Multiplication for {a} and {b} is {a * b}\")\n",
        "print(f\"Division for {a} and {b} is {a / b}\")\n",
        "print(f\"Modulo for {a} and {b} is {a % b}\")\n",
        "print(f\"Exponential for {a} and {b} is {a ** b}\")"
      ],
      "metadata": {
        "id": "JVSgJi9ozvs2",
        "colab": {
          "base_uri": "https://localhost:8080/"
        },
        "outputId": "84a8f384-8ef3-4d04-db7e-636fcfb17107"
      },
      "execution_count": null,
      "outputs": [
        {
          "output_type": "stream",
          "name": "stdout",
          "text": [
            "Addition for 5 and 3 is 8\n",
            "Subtraction for 5 and 3 is 2\n",
            "Multiplication for 5 and 3 is 15\n",
            "Division for 5 and 3 is 1.6666666666666667\n",
            "Modulo for 5 and 3 is 2\n",
            "Exponential for 5 and 3 is 125\n"
          ]
        }
      ]
    },
    {
      "cell_type": "code",
      "source": [
        "a = 5\n",
        "b = 3\n",
        "\n",
        "print(\"Addition for {} and {} is {}\".format(a, b, a + b))\n",
        "print(\"Subtraction for {} and {} is {}\".format(a, b, a - b))\n",
        "print(\"Multiplication for {} and {} is {}\".format(a, b, a * b))\n",
        "print(\"Division for {} and {} is {}\".format(a, b, a / b))\n",
        "print(\"Modulo for {} and {} is {}\".format(a, b, a % b))\n",
        "print(\"Exponential for {} and {} is {}\".format(a, b, a ** b))"
      ],
      "metadata": {
        "id": "ceD--87ez42M",
        "colab": {
          "base_uri": "https://localhost:8080/"
        },
        "outputId": "781d5e07-f083-4f8b-d3de-cf5293013c1f"
      },
      "execution_count": null,
      "outputs": [
        {
          "output_type": "stream",
          "name": "stdout",
          "text": [
            "Addition for 5 and 3 is 8\n",
            "Subtraction for 5 and 3 is 2\n",
            "Multiplication for 5 and 3 is 15\n",
            "Division for 5 and 3 is 1.6666666666666667\n",
            "Modulo for 5 and 3 is 2\n",
            "Exponential for 5 and 3 is 125\n"
          ]
        }
      ]
    },
    {
      "cell_type": "markdown",
      "source": [
        "### Built in string functions"
      ],
      "metadata": {
        "id": "kM6KHy1K01SQ"
      }
    },
    {
      "cell_type": "markdown",
      "source": [
        "#### len"
      ],
      "metadata": {
        "id": "OsLDgg2l1MXR"
      }
    },
    {
      "cell_type": "code",
      "source": [
        "s = \"hello\"\n",
        "\n",
        "print(len(s))"
      ],
      "metadata": {
        "id": "gOzqD7uI04uv",
        "colab": {
          "base_uri": "https://localhost:8080/"
        },
        "outputId": "cd0ecd76-5744-4610-f972-0aab47885c0f"
      },
      "execution_count": null,
      "outputs": [
        {
          "output_type": "stream",
          "name": "stdout",
          "text": [
            "5\n"
          ]
        }
      ]
    },
    {
      "cell_type": "code",
      "source": [
        "s1 = \"hello \"\n",
        "print(len(s1))"
      ],
      "metadata": {
        "id": "VsrluvEd1AC9",
        "colab": {
          "base_uri": "https://localhost:8080/"
        },
        "outputId": "1e098cee-9d9a-4404-f09c-10ae1a48ee8d"
      },
      "execution_count": null,
      "outputs": [
        {
          "output_type": "stream",
          "name": "stdout",
          "text": [
            "6\n"
          ]
        }
      ]
    },
    {
      "cell_type": "markdown",
      "source": [
        "#### replace"
      ],
      "metadata": {
        "id": "2D7Ksi151Tqc"
      }
    },
    {
      "cell_type": "code",
      "source": [
        "s = \"hello\"\n",
        "\n",
        "print(s.replace(\"h\", \"H\"))"
      ],
      "metadata": {
        "id": "qpUEN3Ly1JhB",
        "colab": {
          "base_uri": "https://localhost:8080/"
        },
        "outputId": "a72570dc-2ba5-4317-e006-157c49a424fb"
      },
      "execution_count": null,
      "outputs": [
        {
          "output_type": "stream",
          "name": "stdout",
          "text": [
            "Hello\n"
          ]
        }
      ]
    },
    {
      "cell_type": "code",
      "source": [
        "print(s.replace(\"l\", \"L\"))"
      ],
      "metadata": {
        "id": "SXcLTEah1JmS",
        "colab": {
          "base_uri": "https://localhost:8080/"
        },
        "outputId": "dd620630-b815-4afb-f1d5-5398c5799972"
      },
      "execution_count": null,
      "outputs": [
        {
          "output_type": "stream",
          "name": "stdout",
          "text": [
            "heLLo\n"
          ]
        }
      ]
    },
    {
      "cell_type": "code",
      "source": [
        "s1 = \"hello world\"\n",
        "\n",
        "# Convert to uppercase\n",
        "print(\"Uppercase:\", s1.upper())\n",
        "\n",
        "# Convert to lowercase\n",
        "print(\"Lowercase:\", s1.lower())\n",
        "\n",
        "# Capitalize the first character\n",
        "print(\"Capitalize:\", s1.capitalize())\n",
        "\n",
        "# Title case (capitalize each word)\n",
        "print(\"Title Case:\", s1.title())\n",
        "\n",
        "# Find the position of a substring\n",
        "print(\"Position of 'world':\", s1.find(\"world\"))\n",
        "\n",
        "# Replace a substring\n",
        "print(\"Replace 'world' with 'Python':\", s1.replace(\"world\", \"Python\"))\n",
        "\n",
        "# Check if string starts with \"hello\"\n",
        "print(\"Starts with 'hello':\", s1.startswith(\"hello\"))\n",
        "\n",
        "# Check if string ends with \"world\"\n",
        "print(\"Ends with 'world':\", s1.endswith(\"world\"))\n",
        "\n",
        "# Count occurrences of 'l'\n",
        "print(\"Count of 'l':\", s1.count(\"l\"))"
      ],
      "metadata": {
        "id": "khJyrcHr1id0",
        "colab": {
          "base_uri": "https://localhost:8080/"
        },
        "outputId": "cff6ffdf-b9d9-4aff-fa82-5139c6e49f0c"
      },
      "execution_count": null,
      "outputs": [
        {
          "output_type": "stream",
          "name": "stdout",
          "text": [
            "Uppercase: HELLO WORLD\n",
            "Lowercase: hello world\n",
            "Capitalize: Hello world\n",
            "Title Case: Hello World\n",
            "Position of 'world': 6\n",
            "Replace 'world' with 'Python': hello Python\n",
            "Starts with 'hello': True\n",
            "Ends with 'world': True\n",
            "Count of 'l': 3\n"
          ]
        }
      ]
    },
    {
      "cell_type": "code",
      "source": [
        "# In most dataset you will find string columns for eg movie reviews\n",
        "# so there you will use above string manipulations and built in functions"
      ],
      "metadata": {
        "id": "_pK_6ScU_UMJ"
      },
      "execution_count": null,
      "outputs": []
    },
    {
      "cell_type": "markdown",
      "source": [
        "### Assignment"
      ],
      "metadata": {
        "id": "1LVuFIJsyWh6"
      }
    },
    {
      "cell_type": "code",
      "source": [
        "# 1. print \"hello worLd\" 100 times\n",
        "# 2. on output of 1, count number or occurance of \"l\" (small \"l\", capital \"L\", and all \"l\" + \"L\")\n",
        "# 3. on output of 1, replace small case with upper and vice versa (try using some inbuilt string function)"
      ],
      "metadata": {
        "id": "ZV_b-PWAyY40"
      },
      "execution_count": null,
      "outputs": []
    },
    {
      "cell_type": "code",
      "source": [
        "# Find square root and cube root of any number using ** operator"
      ],
      "metadata": {
        "id": "QIVtquLSyfLe"
      },
      "execution_count": null,
      "outputs": []
    },
    {
      "cell_type": "code",
      "source": [
        "# Difference between \"/\" and \"//\" operator"
      ],
      "metadata": {
        "id": "pHrfsTvByoBm"
      },
      "execution_count": null,
      "outputs": []
    },
    {
      "cell_type": "markdown",
      "source": [
        "# Comparison operators"
      ],
      "metadata": {
        "id": "HNHiMh_X4Khh"
      }
    },
    {
      "cell_type": "markdown",
      "source": [
        "### \"==\" euqal to"
      ],
      "metadata": {
        "id": "5MzGb2p94Q0T"
      }
    },
    {
      "cell_type": "code",
      "source": [
        "3 == 3"
      ],
      "metadata": {
        "colab": {
          "base_uri": "https://localhost:8080/"
        },
        "id": "I48gV9NOy3tl",
        "outputId": "c053e5e8-5eec-47e6-fb2c-300a4d531580"
      },
      "execution_count": null,
      "outputs": [
        {
          "output_type": "execute_result",
          "data": {
            "text/plain": [
              "True"
            ]
          },
          "metadata": {},
          "execution_count": 94
        }
      ]
    },
    {
      "cell_type": "code",
      "source": [
        "4 == 3"
      ],
      "metadata": {
        "colab": {
          "base_uri": "https://localhost:8080/"
        },
        "id": "7Wj8jlPU4p_6",
        "outputId": "61369ed2-c8c7-4baa-f00a-235c7373db9a"
      },
      "execution_count": null,
      "outputs": [
        {
          "output_type": "execute_result",
          "data": {
            "text/plain": [
              "False"
            ]
          },
          "metadata": {},
          "execution_count": 95
        }
      ]
    },
    {
      "cell_type": "code",
      "source": [
        "a = 3\n",
        "b = \"3\"\n",
        "\n",
        "a == b # 3 == \"3\""
      ],
      "metadata": {
        "colab": {
          "base_uri": "https://localhost:8080/"
        },
        "id": "YJxxQDnN4rtF",
        "outputId": "967326cd-250e-4a2a-e277-d6a4fe4830cc"
      },
      "execution_count": null,
      "outputs": [
        {
          "output_type": "execute_result",
          "data": {
            "text/plain": [
              "False"
            ]
          },
          "metadata": {},
          "execution_count": 96
        }
      ]
    },
    {
      "cell_type": "code",
      "source": [
        "3 == 3.0"
      ],
      "metadata": {
        "colab": {
          "base_uri": "https://localhost:8080/"
        },
        "id": "IzDVDnaJ4V3s",
        "outputId": "cf6ca7e6-6830-4a42-c03f-a7e01cba3ed7"
      },
      "execution_count": null,
      "outputs": [
        {
          "output_type": "execute_result",
          "data": {
            "text/plain": [
              "True"
            ]
          },
          "metadata": {},
          "execution_count": 97
        }
      ]
    },
    {
      "cell_type": "code",
      "source": [
        "True == 1 # 1 == 1"
      ],
      "metadata": {
        "colab": {
          "base_uri": "https://localhost:8080/"
        },
        "id": "Fw6bI2J142TQ",
        "outputId": "6010cda6-f8de-4eb4-cc4c-57930fedb225"
      },
      "execution_count": null,
      "outputs": [
        {
          "output_type": "execute_result",
          "data": {
            "text/plain": [
              "True"
            ]
          },
          "metadata": {},
          "execution_count": 98
        }
      ]
    },
    {
      "cell_type": "code",
      "source": [
        "None == None"
      ],
      "metadata": {
        "colab": {
          "base_uri": "https://localhost:8080/"
        },
        "id": "XdKf2chd5QLi",
        "outputId": "5ec46cdf-c2cc-48dc-dbec-c79b069aab41"
      },
      "execution_count": null,
      "outputs": [
        {
          "output_type": "execute_result",
          "data": {
            "text/plain": [
              "True"
            ]
          },
          "metadata": {},
          "execution_count": 99
        }
      ]
    },
    {
      "cell_type": "markdown",
      "source": [
        "### \"!=\" not equal to"
      ],
      "metadata": {
        "id": "vf_dv5Ss5cUO"
      }
    },
    {
      "cell_type": "code",
      "source": [
        "a = 3\n",
        "b = 4\n",
        "\n",
        "a != b # 3 != 4"
      ],
      "metadata": {
        "colab": {
          "base_uri": "https://localhost:8080/"
        },
        "id": "_UFtn9d35Y_j",
        "outputId": "70431ba3-d6ba-40a3-c6ed-09fe33fe4f8c"
      },
      "execution_count": null,
      "outputs": [
        {
          "output_type": "execute_result",
          "data": {
            "text/plain": [
              "True"
            ]
          },
          "metadata": {},
          "execution_count": 100
        }
      ]
    },
    {
      "cell_type": "code",
      "source": [
        "False != 0 # 0 != 0"
      ],
      "metadata": {
        "colab": {
          "base_uri": "https://localhost:8080/"
        },
        "id": "TlQOEToR5kqh",
        "outputId": "a2450dc7-b69a-46fa-848e-79819b69f797"
      },
      "execution_count": null,
      "outputs": [
        {
          "output_type": "execute_result",
          "data": {
            "text/plain": [
              "False"
            ]
          },
          "metadata": {},
          "execution_count": 101
        }
      ]
    },
    {
      "cell_type": "markdown",
      "source": [
        "### \">\" greater than and \">=\" greater than or equal to"
      ],
      "metadata": {
        "id": "Cd-KAv7851PC"
      }
    },
    {
      "cell_type": "code",
      "source": [
        "a = 3\n",
        "b = 4\n",
        "\n",
        "a > 3 # 3 > 3"
      ],
      "metadata": {
        "colab": {
          "base_uri": "https://localhost:8080/"
        },
        "id": "Q4AcUj-t50qm",
        "outputId": "2fc8391d-5211-4ee9-9315-68c1be9cc5a3"
      },
      "execution_count": null,
      "outputs": [
        {
          "output_type": "execute_result",
          "data": {
            "text/plain": [
              "False"
            ]
          },
          "metadata": {},
          "execution_count": 102
        }
      ]
    },
    {
      "cell_type": "code",
      "source": [
        "b > a # 4 > 3"
      ],
      "metadata": {
        "colab": {
          "base_uri": "https://localhost:8080/"
        },
        "id": "g0JLo5F-5sJ2",
        "outputId": "4df55f3b-9503-4b23-c898-0ab9b248e208"
      },
      "execution_count": null,
      "outputs": [
        {
          "output_type": "execute_result",
          "data": {
            "text/plain": [
              "True"
            ]
          },
          "metadata": {},
          "execution_count": 103
        }
      ]
    },
    {
      "cell_type": "code",
      "source": [
        "a >= 3 # 3 >= 3"
      ],
      "metadata": {
        "colab": {
          "base_uri": "https://localhost:8080/"
        },
        "id": "DcGuydF46MnO",
        "outputId": "b826fb74-222d-4f58-d320-a95f66837fbb"
      },
      "execution_count": null,
      "outputs": [
        {
          "output_type": "execute_result",
          "data": {
            "text/plain": [
              "True"
            ]
          },
          "metadata": {},
          "execution_count": 104
        }
      ]
    },
    {
      "cell_type": "markdown",
      "source": [
        "### \"<\" less than and \"<=\" less than or equal to"
      ],
      "metadata": {
        "id": "3zhvqCzx6U27"
      }
    },
    {
      "cell_type": "code",
      "source": [
        "a = 3\n",
        "b = 4\n",
        "\n",
        "a < 3 # 3 > 3"
      ],
      "metadata": {
        "colab": {
          "base_uri": "https://localhost:8080/"
        },
        "id": "J1Y2x6-L6Pv6",
        "outputId": "9445be73-2124-4f70-889a-76100d97e0fb"
      },
      "execution_count": null,
      "outputs": [
        {
          "output_type": "execute_result",
          "data": {
            "text/plain": [
              "False"
            ]
          },
          "metadata": {},
          "execution_count": 105
        }
      ]
    },
    {
      "cell_type": "code",
      "source": [
        "a < b # 3 < 4"
      ],
      "metadata": {
        "colab": {
          "base_uri": "https://localhost:8080/"
        },
        "id": "jajcoEOz6htB",
        "outputId": "cc3f39fa-bb09-45c4-96cf-d6459f345aa0"
      },
      "execution_count": null,
      "outputs": [
        {
          "output_type": "execute_result",
          "data": {
            "text/plain": [
              "True"
            ]
          },
          "metadata": {},
          "execution_count": 106
        }
      ]
    },
    {
      "cell_type": "code",
      "source": [
        "b <= 4 # 4 >= 4"
      ],
      "metadata": {
        "colab": {
          "base_uri": "https://localhost:8080/"
        },
        "id": "_yyzRDiJ6jKV",
        "outputId": "5f6b249f-fb35-4fd1-bb2c-65e029352f00"
      },
      "execution_count": null,
      "outputs": [
        {
          "output_type": "execute_result",
          "data": {
            "text/plain": [
              "True"
            ]
          },
          "metadata": {},
          "execution_count": 107
        }
      ]
    },
    {
      "cell_type": "markdown",
      "source": [
        "# Logical Operators"
      ],
      "metadata": {
        "id": "jG5_vfTZ6xsO"
      }
    },
    {
      "cell_type": "markdown",
      "source": [
        "### \"and\""
      ],
      "metadata": {
        "id": "hbyq7M1p614q"
      }
    },
    {
      "cell_type": "code",
      "source": [
        "print(True and True)\n",
        "print(True and False)\n",
        "print(False and True)\n",
        "print(False and False)"
      ],
      "metadata": {
        "colab": {
          "base_uri": "https://localhost:8080/"
        },
        "id": "7tYvapG-6uw8",
        "outputId": "c8a763d4-3c5a-4c14-ded6-4e610bd6082b"
      },
      "execution_count": null,
      "outputs": [
        {
          "output_type": "stream",
          "name": "stdout",
          "text": [
            "True\n",
            "False\n",
            "False\n",
            "False\n"
          ]
        }
      ]
    },
    {
      "cell_type": "code",
      "source": [
        "a = 3\n",
        "b = 4\n",
        "\n",
        "print(a < b and a < 5)\n",
        "print(a < b and a > 5)\n",
        "print(a > b and a < 5)\n",
        "print(a > b and a > 5)"
      ],
      "metadata": {
        "colab": {
          "base_uri": "https://localhost:8080/"
        },
        "id": "fkoUaMcp7MZF",
        "outputId": "dcdddf33-10c1-4134-fb74-fe78435823d7"
      },
      "execution_count": null,
      "outputs": [
        {
          "output_type": "stream",
          "name": "stdout",
          "text": [
            "True\n",
            "False\n",
            "False\n",
            "False\n"
          ]
        }
      ]
    },
    {
      "cell_type": "code",
      "source": [
        "print(1 and 1)\n",
        "print(1 and 0)\n",
        "print(0 and 1)\n",
        "print(0 and 0)"
      ],
      "metadata": {
        "colab": {
          "base_uri": "https://localhost:8080/"
        },
        "id": "3VVn6fqb8a2U",
        "outputId": "cb83e746-c453-422d-915f-d9849e0eac10"
      },
      "execution_count": null,
      "outputs": [
        {
          "output_type": "stream",
          "name": "stdout",
          "text": [
            "1\n",
            "0\n",
            "0\n",
            "0\n"
          ]
        }
      ]
    },
    {
      "cell_type": "code",
      "source": [
        "a = 1\n",
        "b = 0\n",
        "\n",
        "print(a and b)"
      ],
      "metadata": {
        "colab": {
          "base_uri": "https://localhost:8080/"
        },
        "id": "HbQg6BMV8i_P",
        "outputId": "7399bb96-1867-4c86-bfaf-00bd433f40bd"
      },
      "execution_count": null,
      "outputs": [
        {
          "output_type": "stream",
          "name": "stdout",
          "text": [
            "0\n"
          ]
        }
      ]
    },
    {
      "cell_type": "markdown",
      "source": [
        "\"or\""
      ],
      "metadata": {
        "id": "ambTgUo08VdH"
      }
    },
    {
      "cell_type": "code",
      "source": [
        "print(True or True)\n",
        "print(True or False)\n",
        "print(False or True)\n",
        "print(False or False)"
      ],
      "metadata": {
        "colab": {
          "base_uri": "https://localhost:8080/"
        },
        "id": "svm-Laf67v6U",
        "outputId": "54c883a9-342b-4956-a615-34502929a6a3"
      },
      "execution_count": null,
      "outputs": [
        {
          "output_type": "stream",
          "name": "stdout",
          "text": [
            "True\n",
            "True\n",
            "True\n",
            "False\n"
          ]
        }
      ]
    },
    {
      "cell_type": "code",
      "source": [
        "a = 3\n",
        "b = 4\n",
        "\n",
        "print(a < b or a < 5)\n",
        "print(a < b or a > 5)\n",
        "print(a > b or a < 5)\n",
        "print(a > b or a > 5)"
      ],
      "metadata": {
        "colab": {
          "base_uri": "https://localhost:8080/"
        },
        "id": "WuAL-eCh8w0p",
        "outputId": "82909a07-332c-4b43-81ce-81ca67a46296"
      },
      "execution_count": null,
      "outputs": [
        {
          "output_type": "stream",
          "name": "stdout",
          "text": [
            "True\n",
            "True\n",
            "True\n",
            "False\n"
          ]
        }
      ]
    },
    {
      "cell_type": "code",
      "source": [
        "print(1 or 1)\n",
        "print(1 or 0)\n",
        "print(0 or 1)\n",
        "print(0 or 0)"
      ],
      "metadata": {
        "colab": {
          "base_uri": "https://localhost:8080/"
        },
        "id": "6LB3g4JR9Opv",
        "outputId": "cff52688-831c-4753-cd53-79dc7a7d1470"
      },
      "execution_count": null,
      "outputs": [
        {
          "output_type": "stream",
          "name": "stdout",
          "text": [
            "1\n",
            "1\n",
            "1\n",
            "0\n"
          ]
        }
      ]
    },
    {
      "cell_type": "code",
      "source": [
        "a = 1\n",
        "b = 0\n",
        "\n",
        "print(a or b)"
      ],
      "metadata": {
        "colab": {
          "base_uri": "https://localhost:8080/"
        },
        "id": "G1UqUGFl9STf",
        "outputId": "a396f002-5b24-4cd4-a4b4-3bda8cb42351"
      },
      "execution_count": null,
      "outputs": [
        {
          "output_type": "stream",
          "name": "stdout",
          "text": [
            "1\n"
          ]
        }
      ]
    },
    {
      "cell_type": "markdown",
      "source": [
        "\"not\""
      ],
      "metadata": {
        "id": "9YfdJiOk-R2J"
      }
    },
    {
      "cell_type": "code",
      "source": [
        "a = 1\n",
        "b = 0\n",
        "\n",
        "print(not a)\n",
        "print(not b)"
      ],
      "metadata": {
        "colab": {
          "base_uri": "https://localhost:8080/"
        },
        "id": "5kHrQQYn9e0A",
        "outputId": "a276316d-e556-4747-a014-f99f3b279e1c"
      },
      "execution_count": null,
      "outputs": [
        {
          "output_type": "stream",
          "name": "stdout",
          "text": [
            "False\n",
            "True\n"
          ]
        }
      ]
    },
    {
      "cell_type": "code",
      "source": [
        "a = True\n",
        "b = False\n",
        "\n",
        "print(not a)\n",
        "print(not b)"
      ],
      "metadata": {
        "colab": {
          "base_uri": "https://localhost:8080/"
        },
        "id": "iuxJMjp4-oM_",
        "outputId": "e09e9f46-002a-4d6e-a734-8c9a61cb3216"
      },
      "execution_count": null,
      "outputs": [
        {
          "output_type": "stream",
          "name": "stdout",
          "text": [
            "False\n",
            "True\n"
          ]
        }
      ]
    },
    {
      "cell_type": "markdown",
      "source": [
        "### Assignment"
      ],
      "metadata": {
        "id": "aeOuGRZS_YWS"
      }
    },
    {
      "cell_type": "code",
      "source": [
        "#1. Use Logical operator to find bigger number from given two numbers a = 3, b = 5 (dont use if else)"
      ],
      "metadata": {
        "id": "-6Bg_CYs-rIU"
      },
      "execution_count": null,
      "outputs": []
    },
    {
      "cell_type": "markdown",
      "source": [
        "# Conditional Statements (if-else)"
      ],
      "metadata": {
        "id": "5GyDXAeu_5Hh"
      }
    },
    {
      "cell_type": "code",
      "source": [
        "x = 10\n",
        "if x > 5:\n",
        "    print(\"x is greater than 5\")\n"
      ],
      "metadata": {
        "colab": {
          "base_uri": "https://localhost:8080/"
        },
        "id": "r3xBuonYAJe6",
        "outputId": "31978302-79ff-427d-e763-6ac563691447"
      },
      "execution_count": null,
      "outputs": [
        {
          "output_type": "stream",
          "name": "stdout",
          "text": [
            "x is greater than 5\n"
          ]
        }
      ]
    },
    {
      "cell_type": "code",
      "source": [
        "x = 3\n",
        "if x > 5:\n",
        "    print(\"x is greater than 5\")\n",
        "else:\n",
        "    print(\"x is less than or equal to 5\")\n"
      ],
      "metadata": {
        "colab": {
          "base_uri": "https://localhost:8080/"
        },
        "id": "jWncewdSAMmK",
        "outputId": "14316407-7363-4f7c-aa06-ffcee256d20d"
      },
      "execution_count": null,
      "outputs": [
        {
          "output_type": "stream",
          "name": "stdout",
          "text": [
            "x is less than or equal to 5\n"
          ]
        }
      ]
    },
    {
      "cell_type": "code",
      "source": [
        "x = 7\n",
        "if x > 10:\n",
        "    print(\"x is greater than 10\")\n",
        "elif x == 7:\n",
        "    print(\"x is equal to 7\")\n",
        "else:\n",
        "    print(\"x is less than 10 and not equal to 7\")\n"
      ],
      "metadata": {
        "colab": {
          "base_uri": "https://localhost:8080/"
        },
        "id": "GOLGnukOAQCb",
        "outputId": "67668aa0-f224-4f59-f1af-a49a95952947"
      },
      "execution_count": null,
      "outputs": [
        {
          "output_type": "stream",
          "name": "stdout",
          "text": [
            "x is equal to 7\n"
          ]
        }
      ]
    },
    {
      "cell_type": "code",
      "source": [
        "x = 15\n",
        "if x > 10:\n",
        "    if x < 20:\n",
        "        print(\"x is between 10 and 20\")\n",
        "    else:\n",
        "        print(\"x is greater than or equal to 20\")\n",
        "else:\n",
        "    print(\"x is less than or equal to 10\")\n"
      ],
      "metadata": {
        "colab": {
          "base_uri": "https://localhost:8080/"
        },
        "id": "RrpjLBZxASkM",
        "outputId": "39755727-d9b3-4b0b-e48a-50768a49119b"
      },
      "execution_count": null,
      "outputs": [
        {
          "output_type": "stream",
          "name": "stdout",
          "text": [
            "x is between 10 and 20\n"
          ]
        }
      ]
    },
    {
      "cell_type": "code",
      "source": [
        "x = 8\n",
        "if x > 5 and x < 10:\n",
        "    print(\"x is between 5 and 10\")\n",
        "\n",
        "x = 3\n",
        "if x < 5 or x > 10:\n",
        "    print(\"x is either less than 5 or greater than 10\")\n"
      ],
      "metadata": {
        "colab": {
          "base_uri": "https://localhost:8080/"
        },
        "id": "sq21Z7vHAUuJ",
        "outputId": "eddd04ed-7227-4d31-e92e-c37ca50548e4"
      },
      "execution_count": null,
      "outputs": [
        {
          "output_type": "stream",
          "name": "stdout",
          "text": [
            "x is between 5 and 10\n",
            "x is either less than 5 or greater than 10\n"
          ]
        }
      ]
    },
    {
      "cell_type": "code",
      "source": [
        "is_logged_in = False\n",
        "if not is_logged_in:\n",
        "    print(\"User is not logged in\")\n"
      ],
      "metadata": {
        "colab": {
          "base_uri": "https://localhost:8080/"
        },
        "id": "o8Se_AHfAX8g",
        "outputId": "e0573783-5951-4eaf-8da6-f0b8599cf764"
      },
      "execution_count": null,
      "outputs": [
        {
          "output_type": "stream",
          "name": "stdout",
          "text": [
            "User is not logged in\n"
          ]
        }
      ]
    },
    {
      "cell_type": "code",
      "source": [
        "x = 5\n",
        "y = 10\n",
        "if x < y:\n",
        "    print(\"x is less than y\")\n"
      ],
      "metadata": {
        "colab": {
          "base_uri": "https://localhost:8080/"
        },
        "id": "VGGstdtFAhG5",
        "outputId": "3adf29f0-db79-4ba4-e9bf-fbbdeca9611a"
      },
      "execution_count": null,
      "outputs": [
        {
          "output_type": "stream",
          "name": "stdout",
          "text": [
            "x is less than y\n"
          ]
        }
      ]
    },
    {
      "cell_type": "code",
      "source": [
        "x = 4\n",
        "y = 8\n",
        "if x < 10 and y > 5:\n",
        "    print(\"x is less than 10 and y is greater than 5\")\n"
      ],
      "metadata": {
        "colab": {
          "base_uri": "https://localhost:8080/"
        },
        "id": "MXob4cPHAis-",
        "outputId": "5b97041e-73da-4b3f-cba1-653bcb4126ed"
      },
      "execution_count": null,
      "outputs": [
        {
          "output_type": "stream",
          "name": "stdout",
          "text": [
            "x is less than 10 and y is greater than 5\n"
          ]
        }
      ]
    },
    {
      "cell_type": "code",
      "source": [
        "# Mostly use for data analysis for eg analyzing age groups into bins (1-10, 11-20, etc)"
      ],
      "metadata": {
        "id": "oYtR0dva_vKu"
      },
      "execution_count": null,
      "outputs": []
    },
    {
      "cell_type": "markdown",
      "source": [
        "### Assignment"
      ],
      "metadata": {
        "id": "9lZ0qajkA8Pn"
      }
    },
    {
      "cell_type": "code",
      "source": [
        "# Using two variables find biggest among them, use a=3,b=-10 (use Conditional Statements)\n",
        "# Using two variables a and b find if a is divisible by b, if not then print remainder (use Conditional Statements)"
      ],
      "metadata": {
        "id": "VKGtUiGtA91v"
      },
      "execution_count": null,
      "outputs": []
    },
    {
      "cell_type": "markdown",
      "source": [
        "# Loop"
      ],
      "metadata": {
        "id": "2e6mef8S6Ld9"
      }
    },
    {
      "cell_type": "markdown",
      "source": [
        "### \"for\""
      ],
      "metadata": {
        "id": "7Bfz9tVg6Nsd"
      }
    },
    {
      "cell_type": "code",
      "source": [
        "for i in range(5):  # Iterates from 0 to 4\n",
        "    print(i)\n"
      ],
      "metadata": {
        "id": "nF3x2zI9B2-y",
        "colab": {
          "base_uri": "https://localhost:8080/"
        },
        "outputId": "a16c4d20-3ffe-48a5-fe7c-b5dd5a92b61d"
      },
      "execution_count": null,
      "outputs": [
        {
          "output_type": "stream",
          "name": "stdout",
          "text": [
            "0\n",
            "1\n",
            "2\n",
            "3\n",
            "4\n"
          ]
        }
      ]
    },
    {
      "cell_type": "code",
      "source": [
        "for i in range(1, 10, 2):  # Iterates from 1 to 9 with a step of 2\n",
        "    print(i)"
      ],
      "metadata": {
        "colab": {
          "base_uri": "https://localhost:8080/"
        },
        "id": "LFzi-GSeA93N",
        "outputId": "51f5b125-2108-47fd-fdc0-eb3490590d16"
      },
      "execution_count": null,
      "outputs": [
        {
          "output_type": "stream",
          "name": "stdout",
          "text": [
            "1\n",
            "3\n",
            "5\n",
            "7\n",
            "9\n"
          ]
        }
      ]
    },
    {
      "cell_type": "code",
      "source": [
        "name = \"Python\"\n",
        "for char in name:\n",
        "    print(char)"
      ],
      "metadata": {
        "colab": {
          "base_uri": "https://localhost:8080/"
        },
        "id": "IUDtL6HuBBbO",
        "outputId": "fcad3919-7751-423d-b1f7-fd0e90497f82"
      },
      "execution_count": null,
      "outputs": [
        {
          "output_type": "stream",
          "name": "stdout",
          "text": [
            "P\n",
            "y\n",
            "t\n",
            "h\n",
            "o\n",
            "n\n"
          ]
        }
      ]
    },
    {
      "cell_type": "code",
      "source": [
        "for i in range(5):\n",
        "    if i == 3:\n",
        "        print(\"Breaking loop at\", i)\n",
        "        break\n",
        "    print(i)"
      ],
      "metadata": {
        "colab": {
          "base_uri": "https://localhost:8080/"
        },
        "id": "iNc7nLeJBG3b",
        "outputId": "005866e5-d74c-4937-a818-ade2df2034c0"
      },
      "execution_count": null,
      "outputs": [
        {
          "output_type": "stream",
          "name": "stdout",
          "text": [
            "0\n",
            "1\n",
            "2\n",
            "Breaking loop at 3\n"
          ]
        }
      ]
    },
    {
      "cell_type": "markdown",
      "source": [
        "### \"while\""
      ],
      "metadata": {
        "id": "QcnvhLS8Bc3V"
      }
    },
    {
      "cell_type": "code",
      "source": [
        "count = 0\n",
        "while count < 5:\n",
        "    print(count)\n",
        "    count += 1  # Increment count\n"
      ],
      "metadata": {
        "colab": {
          "base_uri": "https://localhost:8080/"
        },
        "id": "KbAQyeypBcaU",
        "outputId": "dd1bdfea-ec9a-4ee5-fdd3-5cbf008c19d4"
      },
      "execution_count": null,
      "outputs": [
        {
          "output_type": "stream",
          "name": "stdout",
          "text": [
            "0\n",
            "1\n",
            "2\n",
            "3\n",
            "4\n"
          ]
        }
      ]
    },
    {
      "cell_type": "code",
      "source": [
        "count = 0\n",
        "while count < 3:\n",
        "    print(count)\n",
        "    count += 1\n",
        "else:\n",
        "    print(\"Loop finished\")\n"
      ],
      "metadata": {
        "colab": {
          "base_uri": "https://localhost:8080/"
        },
        "id": "BaoPn7PQBKhJ",
        "outputId": "14f5eec0-e442-4a26-d2d0-5e10f01ed50f"
      },
      "execution_count": null,
      "outputs": [
        {
          "output_type": "stream",
          "name": "stdout",
          "text": [
            "0\n",
            "1\n",
            "2\n",
            "Loop finished\n"
          ]
        }
      ]
    },
    {
      "cell_type": "code",
      "source": [
        "count = 0\n",
        "while True:\n",
        "    print(count)\n",
        "    count += 1\n",
        "    if count == 5:\n",
        "        print(\"Breaking loop\")\n",
        "        break\n"
      ],
      "metadata": {
        "colab": {
          "base_uri": "https://localhost:8080/"
        },
        "id": "LEhFmfJfBkVs",
        "outputId": "ca62ea11-e367-4aa7-e532-623083ee94ea"
      },
      "execution_count": null,
      "outputs": [
        {
          "output_type": "stream",
          "name": "stdout",
          "text": [
            "0\n",
            "1\n",
            "2\n",
            "3\n",
            "4\n",
            "Breaking loop\n"
          ]
        }
      ]
    },
    {
      "cell_type": "code",
      "source": [
        "# Mostly use for iterating the dataset rows and performing some manipulation"
      ],
      "metadata": {
        "id": "unrJRc1rC-r4"
      },
      "execution_count": null,
      "outputs": []
    },
    {
      "cell_type": "markdown",
      "source": [
        "# Functions"
      ],
      "metadata": {
        "id": "9IatoLoXCSiR"
      }
    },
    {
      "cell_type": "code",
      "source": [
        "def greet():\n",
        "    print(\"Hello, world!\")\n",
        "\n",
        "greet()\n"
      ],
      "metadata": {
        "colab": {
          "base_uri": "https://localhost:8080/"
        },
        "id": "KZTf7WHVCR-c",
        "outputId": "3e220a10-2ddd-4fa9-ac88-a581c50e042b"
      },
      "execution_count": null,
      "outputs": [
        {
          "output_type": "stream",
          "name": "stdout",
          "text": [
            "Hello, world!\n"
          ]
        }
      ]
    },
    {
      "cell_type": "code",
      "source": [
        "def greet(name):\n",
        "    print(f\"Hello, {name}!\")\n",
        "\n",
        "greet(\"Alice\")\n"
      ],
      "metadata": {
        "colab": {
          "base_uri": "https://localhost:8080/"
        },
        "id": "OpIumvwOCWSb",
        "outputId": "53140980-97bc-4e99-aad0-d3e398249a15"
      },
      "execution_count": null,
      "outputs": [
        {
          "output_type": "stream",
          "name": "stdout",
          "text": [
            "Hello, Alice!\n"
          ]
        }
      ]
    },
    {
      "cell_type": "code",
      "source": [
        "def add(a, b):\n",
        "    return a + b\n",
        "\n",
        "result = add(5, 3)\n",
        "print(\"Sum:\", result)\n"
      ],
      "metadata": {
        "colab": {
          "base_uri": "https://localhost:8080/"
        },
        "id": "_epc-bODCWWh",
        "outputId": "3779f4ab-5cac-4242-df13-69aa1c614a96"
      },
      "execution_count": null,
      "outputs": [
        {
          "output_type": "stream",
          "name": "stdout",
          "text": [
            "Sum: 8\n"
          ]
        }
      ]
    },
    {
      "cell_type": "code",
      "source": [
        "def greet(name=\"Guest\"):\n",
        "    print(f\"Hello, {name}!\")\n",
        "\n",
        "greet()  # Uses default value\n",
        "greet(\"Alice\")  # Overrides default value\n"
      ],
      "metadata": {
        "colab": {
          "base_uri": "https://localhost:8080/"
        },
        "id": "opnAItqaCa-v",
        "outputId": "21c23352-f26f-43f3-a832-eedbe5be81ad"
      },
      "execution_count": null,
      "outputs": [
        {
          "output_type": "stream",
          "name": "stdout",
          "text": [
            "Hello, Guest!\n",
            "Hello, Alice!\n"
          ]
        }
      ]
    },
    {
      "cell_type": "code",
      "source": [
        "def math_operations(a, b):\n",
        "    return a + b, a - b, a * b, a / b\n",
        "\n",
        "addition, subtraction, multiplication, division = math_operations(10, 2)\n",
        "print(\"Addition:\", addition)\n",
        "print(\"Subtraction:\", subtraction)\n",
        "print(\"Multiplication:\", multiplication)\n",
        "print(\"Division:\", division)\n"
      ],
      "metadata": {
        "colab": {
          "base_uri": "https://localhost:8080/"
        },
        "id": "oPSwQHz0Cd36",
        "outputId": "1254f8fa-c50c-443d-93ca-495ced9a47ff"
      },
      "execution_count": null,
      "outputs": [
        {
          "output_type": "stream",
          "name": "stdout",
          "text": [
            "Addition: 12\n",
            "Subtraction: 8\n",
            "Multiplication: 20\n",
            "Division: 5.0\n"
          ]
        }
      ]
    },
    {
      "cell_type": "code",
      "source": [
        "def add_numbers(*args):\n",
        "    return sum(args)\n",
        "\n",
        "print(\"Sum:\", add_numbers(1, 2, 3, 4, 5))\n"
      ],
      "metadata": {
        "colab": {
          "base_uri": "https://localhost:8080/"
        },
        "id": "3UXB0M3mCuqE",
        "outputId": "9ef063ff-763b-4d1c-cb16-35c3eaf97e83"
      },
      "execution_count": null,
      "outputs": [
        {
          "output_type": "stream",
          "name": "stdout",
          "text": [
            "Sum: 15\n"
          ]
        }
      ]
    },
    {
      "cell_type": "code",
      "source": [
        "def print_details(**kwargs):\n",
        "    for key, value in kwargs.items():\n",
        "        print(f\"{key}: {value}\")\n",
        "\n",
        "print_details(name=\"Alice\", age=25, city=\"New York\")\n"
      ],
      "metadata": {
        "colab": {
          "base_uri": "https://localhost:8080/"
        },
        "id": "f7rpyHWLCwg-",
        "outputId": "a9f41a8b-5b7c-473d-f6b9-65e841ebd469"
      },
      "execution_count": null,
      "outputs": [
        {
          "output_type": "stream",
          "name": "stdout",
          "text": [
            "name: Alice\n",
            "age: 25\n",
            "city: New York\n"
          ]
        }
      ]
    },
    {
      "cell_type": "code",
      "source": [
        "# Mostly use for organising code and improving redability"
      ],
      "metadata": {
        "id": "jvh-0ZyKDwL4"
      },
      "execution_count": null,
      "outputs": []
    },
    {
      "cell_type": "markdown",
      "source": [
        "# Modules"
      ],
      "metadata": {
        "id": "wEpmOrboDQAA"
      }
    },
    {
      "cell_type": "code",
      "source": [
        "import math\n",
        "\n",
        "# Using functions from the math module\n",
        "print(\"Square root of 16:\", math.sqrt(16))\n",
        "print(\"Value of pi:\", math.pi)\n"
      ],
      "metadata": {
        "colab": {
          "base_uri": "https://localhost:8080/"
        },
        "id": "QC276yMADPCQ",
        "outputId": "7b6ef1ac-68e7-4a8f-cd15-c163d435bc1c"
      },
      "execution_count": null,
      "outputs": [
        {
          "output_type": "stream",
          "name": "stdout",
          "text": [
            "Square root of 16: 4.0\n",
            "Value of pi: 3.141592653589793\n"
          ]
        }
      ]
    },
    {
      "cell_type": "code",
      "source": [
        "from math import sqrt, pi\n",
        "\n",
        "print(\"Square root of 25:\", sqrt(25))\n",
        "print(\"Value of pi:\", pi)\n"
      ],
      "metadata": {
        "colab": {
          "base_uri": "https://localhost:8080/"
        },
        "id": "zyLs1nOsDWwa",
        "outputId": "f230f2be-1829-4ef8-e55f-ee52a6aec96d"
      },
      "execution_count": null,
      "outputs": [
        {
          "output_type": "stream",
          "name": "stdout",
          "text": [
            "Square root of 25: 5.0\n",
            "Value of pi: 3.141592653589793\n"
          ]
        }
      ]
    },
    {
      "cell_type": "code",
      "source": [
        "%%writefile math_operations.py\n",
        "def add(a, b):\n",
        "    return a + b\n",
        "\n",
        "def subtract(a, b):\n",
        "    return a - b\n",
        "\n",
        "def multiply(a, b):\n",
        "    return a * b"
      ],
      "metadata": {
        "colab": {
          "base_uri": "https://localhost:8080/"
        },
        "id": "6GfccVPfDcYY",
        "outputId": "939a6f91-da5f-4a36-dd59-e51d3a79b107"
      },
      "execution_count": null,
      "outputs": [
        {
          "output_type": "stream",
          "name": "stdout",
          "text": [
            "Overwriting math_operations.py\n"
          ]
        }
      ]
    },
    {
      "cell_type": "code",
      "source": [
        "import math_operations\n",
        "\n",
        "result = math_operations.add(5, 3)\n",
        "print(\"Sum:\", result)\n",
        "\n",
        "result = math_operations.subtract(10, 2)\n",
        "print(\"Difference:\", result)\n",
        "\n",
        "result = math_operations.multiply(4, 6)\n",
        "print(\"Product:\", result)"
      ],
      "metadata": {
        "colab": {
          "base_uri": "https://localhost:8080/"
        },
        "id": "Sgyga-gpDhka",
        "outputId": "23f8dfa7-971f-4e4b-aab1-c5ed4f884a9f"
      },
      "execution_count": null,
      "outputs": [
        {
          "output_type": "stream",
          "name": "stdout",
          "text": [
            "Sum: 8\n",
            "Difference: 8\n",
            "Product: 24\n"
          ]
        }
      ]
    },
    {
      "cell_type": "code",
      "source": [
        "# Used for calling different machine learning modules or any module"
      ],
      "metadata": {
        "id": "7UZ9dPqGD6Fo"
      },
      "execution_count": null,
      "outputs": []
    },
    {
      "cell_type": "markdown",
      "source": [
        "# lambda function"
      ],
      "metadata": {
        "id": "cA95SQMrE_Ym"
      }
    },
    {
      "cell_type": "code",
      "source": [
        "add = lambda x, y: x + y\n",
        "print(add(5, 3))  # Output: 8\n"
      ],
      "metadata": {
        "colab": {
          "base_uri": "https://localhost:8080/"
        },
        "id": "5042CFCZFCQo",
        "outputId": "c8f272aa-12ce-428f-a189-26f8c15231b1"
      },
      "execution_count": null,
      "outputs": [
        {
          "output_type": "stream",
          "name": "stdout",
          "text": [
            "8\n"
          ]
        }
      ]
    },
    {
      "cell_type": "code",
      "source": [
        "greet = lambda: \"Hello, World!\"\n",
        "print(greet())  # Output: Hello, World!\n"
      ],
      "metadata": {
        "colab": {
          "base_uri": "https://localhost:8080/"
        },
        "id": "tSAsM6GiFEoE",
        "outputId": "4d91e3ea-be58-4880-dbc4-2be57b0432b0"
      },
      "execution_count": null,
      "outputs": [
        {
          "output_type": "stream",
          "name": "stdout",
          "text": [
            "Hello, World!\n"
          ]
        }
      ]
    },
    {
      "cell_type": "code",
      "source": [
        "# Mostly use with map and filter or writing small functions"
      ],
      "metadata": {
        "id": "ufO3E43OFZ43"
      },
      "execution_count": null,
      "outputs": []
    },
    {
      "cell_type": "code",
      "source": [],
      "metadata": {
        "id": "hhQEdKYNBmWz"
      },
      "execution_count": null,
      "outputs": []
    }
  ]
}