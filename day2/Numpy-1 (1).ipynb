{
  "nbformat": 4,
  "nbformat_minor": 0,
  "metadata": {
    "colab": {
      "provenance": []
    },
    "kernelspec": {
      "display_name": "Python 3",
      "language": "python",
      "name": "python3"
    }
  },
  "cells": [
    {
      "cell_type": "markdown",
      "metadata": {
        "id": "F9MJmcoJ5KBl"
      },
      "source": [
        "# The Numpy array object"
      ]
    },
    {
      "cell_type": "markdown",
      "metadata": {
        "id": "_W1FTSgc5KBp"
      },
      "source": [
        "# NumPy Arrays"
      ]
    },
    {
      "cell_type": "code",
      "metadata": {
        "id": "M7o8-MYe5KBw",
        "colab": {
          "base_uri": "https://localhost:8080/"
        },
        "outputId": "02a7c212-44b7-4044-e4c7-3149c2f04d92"
      },
      "source": [
        "import numpy as np\n",
        "a = np.array([0, 1, 2, 3])\n",
        "print(a)\n",
        "\n",
        "print(np.arange(10))"
      ],
      "execution_count": 1,
      "outputs": [
        {
          "output_type": "stream",
          "name": "stdout",
          "text": [
            "[0 1 2 3]\n",
            "[0 1 2 3 4 5 6 7 8 9]\n"
          ]
        }
      ]
    },
    {
      "cell_type": "markdown",
      "metadata": {
        "id": "OASYSloj5KCM"
      },
      "source": [
        "# 1. Creating arrays"
      ]
    },
    {
      "cell_type": "markdown",
      "metadata": {
        "id": "duovuzMA5KCO"
      },
      "source": [
        "** 1.1.  Manual Construction of arrays**"
      ]
    },
    {
      "cell_type": "code",
      "metadata": {
        "id": "NPGF-D0C5KCQ",
        "outputId": "8e72d107-fc32-4c9f-fc3b-ffad6d3e7b78",
        "colab": {
          "base_uri": "https://localhost:8080/"
        }
      },
      "source": [
        "#1-D\n",
        "\n",
        "a = np.array([0, 1, 2, 3])\n",
        "\n",
        "a"
      ],
      "execution_count": 6,
      "outputs": [
        {
          "output_type": "execute_result",
          "data": {
            "text/plain": [
              "array([0, 1, 2, 3])"
            ]
          },
          "metadata": {},
          "execution_count": 6
        }
      ]
    },
    {
      "cell_type": "code",
      "metadata": {
        "id": "PpI7fZNz5KCW",
        "outputId": "64a20254-89eb-4d91-9941-e32fa4664b6b",
        "colab": {
          "base_uri": "https://localhost:8080/"
        }
      },
      "source": [
        "#print dimensions\n",
        "\n",
        "a.ndim"
      ],
      "execution_count": 7,
      "outputs": [
        {
          "output_type": "execute_result",
          "data": {
            "text/plain": [
              "1"
            ]
          },
          "metadata": {},
          "execution_count": 7
        }
      ]
    },
    {
      "cell_type": "code",
      "metadata": {
        "id": "oSY_Zr__5KCc",
        "outputId": "69aa2a8d-fa15-4f3b-9553-d3cb1076f592",
        "colab": {
          "base_uri": "https://localhost:8080/"
        }
      },
      "source": [
        "#shape\n",
        "\n",
        "a.shape"
      ],
      "execution_count": 8,
      "outputs": [
        {
          "output_type": "execute_result",
          "data": {
            "text/plain": [
              "(4,)"
            ]
          },
          "metadata": {},
          "execution_count": 8
        }
      ]
    },
    {
      "cell_type": "code",
      "metadata": {
        "id": "ur9ff3_j5KCg",
        "outputId": "f1046d44-d10c-4e79-d198-b6d618c1ce29",
        "colab": {
          "base_uri": "https://localhost:8080/"
        }
      },
      "source": [
        "len(a)"
      ],
      "execution_count": 9,
      "outputs": [
        {
          "output_type": "execute_result",
          "data": {
            "text/plain": [
              "4"
            ]
          },
          "metadata": {},
          "execution_count": 9
        }
      ]
    },
    {
      "cell_type": "code",
      "metadata": {
        "id": "cJJeUtp15KCk",
        "outputId": "de7d5b1a-8530-45d0-e17a-dd870c65e39a",
        "colab": {
          "base_uri": "https://localhost:8080/"
        }
      },
      "source": [
        "# 2-D, 3-D....\n",
        "\n",
        "b = np.array([[0, 1, 2], [3, 4, 5]])\n",
        "\n",
        "b"
      ],
      "execution_count": 10,
      "outputs": [
        {
          "output_type": "execute_result",
          "data": {
            "text/plain": [
              "array([[0, 1, 2],\n",
              "       [3, 4, 5]])"
            ]
          },
          "metadata": {},
          "execution_count": 10
        }
      ]
    },
    {
      "cell_type": "code",
      "metadata": {
        "id": "5Bj4A__V5KCn",
        "outputId": "72475577-97fd-4e9d-ddba-3beab35d4f7f",
        "colab": {
          "base_uri": "https://localhost:8080/"
        }
      },
      "source": [
        "b.ndim"
      ],
      "execution_count": 11,
      "outputs": [
        {
          "output_type": "execute_result",
          "data": {
            "text/plain": [
              "2"
            ]
          },
          "metadata": {},
          "execution_count": 11
        }
      ]
    },
    {
      "cell_type": "code",
      "metadata": {
        "id": "dcBDwROI5KCs",
        "outputId": "e211568f-59dc-458f-8861-40c7e2c22926",
        "colab": {
          "base_uri": "https://localhost:8080/"
        }
      },
      "source": [
        "b.shape"
      ],
      "execution_count": 12,
      "outputs": [
        {
          "output_type": "execute_result",
          "data": {
            "text/plain": [
              "(2, 3)"
            ]
          },
          "metadata": {},
          "execution_count": 12
        }
      ]
    },
    {
      "cell_type": "code",
      "metadata": {
        "id": "zXiykD5M5KC3",
        "outputId": "915e1872-cff4-4ce7-d8db-80c527fa3a0d",
        "colab": {
          "base_uri": "https://localhost:8080/"
        }
      },
      "source": [
        "len(b) #returns the size of the first dimention"
      ],
      "execution_count": 13,
      "outputs": [
        {
          "output_type": "execute_result",
          "data": {
            "text/plain": [
              "2"
            ]
          },
          "metadata": {},
          "execution_count": 13
        }
      ]
    },
    {
      "cell_type": "markdown",
      "metadata": {
        "id": "tEccAOSn5KDK"
      },
      "source": [
        "** 1.2  Functions for creating arrays**"
      ]
    },
    {
      "cell_type": "code",
      "metadata": {
        "id": "yEeTwNqW5KDM",
        "outputId": "43a78ac0-80ee-4a5c-a73a-d93ffd41d591",
        "colab": {
          "base_uri": "https://localhost:8080/"
        }
      },
      "source": [
        "#using arrange function\n",
        "\n",
        "# arange is an array-valued version of the built-in Python range function\n",
        "\n",
        "a = np.arange(10) # 0.... n-1\n",
        "a"
      ],
      "execution_count": 17,
      "outputs": [
        {
          "output_type": "execute_result",
          "data": {
            "text/plain": [
              "array([0, 1, 2, 3, 4, 5, 6, 7, 8, 9])"
            ]
          },
          "metadata": {},
          "execution_count": 17
        }
      ]
    },
    {
      "cell_type": "code",
      "metadata": {
        "id": "w-aKnDg05KDQ",
        "outputId": "a31f413f-7b80-4fee-d2eb-03d1b4d78c91",
        "colab": {
          "base_uri": "https://localhost:8080/"
        }
      },
      "source": [
        "b = np.arange(1, 10, 2) #start, end (exclusive), step\n",
        "\n",
        "b"
      ],
      "execution_count": 18,
      "outputs": [
        {
          "output_type": "execute_result",
          "data": {
            "text/plain": [
              "array([1, 3, 5, 7, 9])"
            ]
          },
          "metadata": {},
          "execution_count": 18
        }
      ]
    },
    {
      "cell_type": "code",
      "metadata": {
        "id": "PbY7KZ2T5KDU",
        "outputId": "d22ab284-53a1-4f20-c781-94311ac37bff",
        "colab": {
          "base_uri": "https://localhost:8080/"
        }
      },
      "source": [
        "#using linspace\n",
        "\n",
        "a = np.linspace(0, 1, 6) #start, end, number of points\n",
        "\n",
        "a"
      ],
      "execution_count": 19,
      "outputs": [
        {
          "output_type": "execute_result",
          "data": {
            "text/plain": [
              "array([0. , 0.2, 0.4, 0.6, 0.8, 1. ])"
            ]
          },
          "metadata": {},
          "execution_count": 19
        }
      ]
    },
    {
      "cell_type": "code",
      "metadata": {
        "id": "jEXPF_bp5KDZ",
        "outputId": "145b1e98-897d-4371-dacb-dc8d99c37ca4",
        "colab": {
          "base_uri": "https://localhost:8080/"
        }
      },
      "source": [
        "#common arrays\n",
        "\n",
        "a = np.ones((3, 3))\n",
        "\n",
        "a"
      ],
      "execution_count": 20,
      "outputs": [
        {
          "output_type": "execute_result",
          "data": {
            "text/plain": [
              "array([[1., 1., 1.],\n",
              "       [1., 1., 1.],\n",
              "       [1., 1., 1.]])"
            ]
          },
          "metadata": {},
          "execution_count": 20
        }
      ]
    },
    {
      "cell_type": "code",
      "metadata": {
        "id": "-zPMMjEo5KDc",
        "outputId": "458e2c05-a858-4780-8ff1-8dc5cc0b3c5e",
        "colab": {
          "base_uri": "https://localhost:8080/"
        }
      },
      "source": [
        "b = np.zeros((3, 3))\n",
        "\n",
        "b"
      ],
      "execution_count": 21,
      "outputs": [
        {
          "output_type": "execute_result",
          "data": {
            "text/plain": [
              "array([[0., 0., 0.],\n",
              "       [0., 0., 0.],\n",
              "       [0., 0., 0.]])"
            ]
          },
          "metadata": {},
          "execution_count": 21
        }
      ]
    },
    {
      "cell_type": "code",
      "metadata": {
        "id": "iva_x1Y25KDf",
        "outputId": "54995192-89d6-4593-8ff3-cc659abefe54",
        "colab": {
          "base_uri": "https://localhost:8080/"
        }
      },
      "source": [
        "c = np.eye(3)  #Return a 2-D array with ones on the diagonal and zeros elsewhere.\n",
        "\n",
        "c"
      ],
      "execution_count": 22,
      "outputs": [
        {
          "output_type": "execute_result",
          "data": {
            "text/plain": [
              "array([[1., 0., 0.],\n",
              "       [0., 1., 0.],\n",
              "       [0., 0., 1.]])"
            ]
          },
          "metadata": {},
          "execution_count": 22
        }
      ]
    },
    {
      "cell_type": "code",
      "metadata": {
        "id": "0UPv6IBd5KDk",
        "outputId": "c2db6e92-2e7b-40fb-b356-ed1d1938ca96",
        "colab": {
          "base_uri": "https://localhost:8080/"
        }
      },
      "source": [
        "d = np.eye(3, 2) #3 is number of rows, 2 is number of columns, index of diagonal start with 0\n",
        "\n",
        "d"
      ],
      "execution_count": 23,
      "outputs": [
        {
          "output_type": "execute_result",
          "data": {
            "text/plain": [
              "array([[1., 0.],\n",
              "       [0., 1.],\n",
              "       [0., 0.]])"
            ]
          },
          "metadata": {},
          "execution_count": 23
        }
      ]
    },
    {
      "cell_type": "code",
      "metadata": {
        "id": "X0khu_6H5KDo",
        "outputId": "4797be70-55cd-4b0e-ec36-9d07a2b62da1",
        "colab": {
          "base_uri": "https://localhost:8080/"
        }
      },
      "source": [
        "#create array using diag function\n",
        "\n",
        "a = np.diag([1, 2, 3, 4]) #construct a diagonal array.\n",
        "\n",
        "a"
      ],
      "execution_count": 24,
      "outputs": [
        {
          "output_type": "execute_result",
          "data": {
            "text/plain": [
              "array([[1, 0, 0, 0],\n",
              "       [0, 2, 0, 0],\n",
              "       [0, 0, 3, 0],\n",
              "       [0, 0, 0, 4]])"
            ]
          },
          "metadata": {},
          "execution_count": 24
        }
      ]
    },
    {
      "cell_type": "code",
      "metadata": {
        "id": "jtu2ChUt5KDq",
        "outputId": "25518b10-9c9d-4170-94dc-9da5754286be",
        "colab": {
          "base_uri": "https://localhost:8080/"
        }
      },
      "source": [
        "np.diag(a)   #Extract diagonal"
      ],
      "execution_count": 25,
      "outputs": [
        {
          "output_type": "execute_result",
          "data": {
            "text/plain": [
              "array([1, 2, 3, 4])"
            ]
          },
          "metadata": {},
          "execution_count": 25
        }
      ]
    },
    {
      "cell_type": "code",
      "metadata": {
        "id": "JfahvFnj5KDu",
        "outputId": "b9da4eec-f861-4096-e3e4-1790a583965b",
        "colab": {
          "base_uri": "https://localhost:8080/"
        }
      },
      "source": [
        "#create array using random\n",
        "\n",
        "#Create an array of the given shape and populate it with random samples from a uniform distribution over [0, 1).\n",
        "a = np.random.rand(4)\n",
        "\n",
        "a"
      ],
      "execution_count": 26,
      "outputs": [
        {
          "output_type": "execute_result",
          "data": {
            "text/plain": [
              "array([0.29181116, 0.23679159, 0.53079309, 0.70714738])"
            ]
          },
          "metadata": {},
          "execution_count": 26
        }
      ]
    },
    {
      "cell_type": "code",
      "metadata": {
        "id": "ot7Aij7d5KDw",
        "outputId": "99f3385b-b2b0-4f40-81db-d27b1a833d0f",
        "colab": {
          "base_uri": "https://localhost:8080/"
        }
      },
      "source": [
        "a = np.random.randn(4)#Return a sample (or samples) from the “standard normal” distribution.  ***Gausian***\n",
        "\n",
        "a"
      ],
      "execution_count": 27,
      "outputs": [
        {
          "output_type": "execute_result",
          "data": {
            "text/plain": [
              "array([ 1.14127245,  1.70779562, -1.05629155, -1.1072947 ])"
            ]
          },
          "metadata": {},
          "execution_count": 27
        }
      ]
    },
    {
      "cell_type": "markdown",
      "metadata": {
        "id": "36MjYG6E5KD0"
      },
      "source": [
        "# 2. Basic DataTypes"
      ]
    },
    {
      "cell_type": "markdown",
      "metadata": {
        "id": "-K6yrynt5KD1"
      },
      "source": [
        "You may have noticed that, in some instances, array elements are displayed with a **trailing dot (e.g. 2. vs 2)**. This is due to a difference in the **data-type** used:"
      ]
    },
    {
      "cell_type": "code",
      "metadata": {
        "id": "Dee7Z3215KD2",
        "outputId": "5eb99a75-bd0c-4874-d049-f97a7c7d7a3e",
        "colab": {
          "base_uri": "https://localhost:8080/"
        }
      },
      "source": [
        "a = np.arange(10)\n",
        "\n",
        "a.dtype"
      ],
      "execution_count": 28,
      "outputs": [
        {
          "output_type": "execute_result",
          "data": {
            "text/plain": [
              "dtype('int64')"
            ]
          },
          "metadata": {},
          "execution_count": 28
        }
      ]
    },
    {
      "cell_type": "code",
      "metadata": {
        "id": "rTIjQKfp5KD8",
        "outputId": "a399a0d9-d579-4668-ba34-7b4f52bcf518",
        "colab": {
          "base_uri": "https://localhost:8080/"
        }
      },
      "source": [
        "#You can explicitly specify which data-type you want:\n",
        "\n",
        "a = np.arange(10, dtype='float64')\n",
        "a"
      ],
      "execution_count": 29,
      "outputs": [
        {
          "output_type": "execute_result",
          "data": {
            "text/plain": [
              "array([0., 1., 2., 3., 4., 5., 6., 7., 8., 9.])"
            ]
          },
          "metadata": {},
          "execution_count": 29
        }
      ]
    },
    {
      "cell_type": "code",
      "metadata": {
        "id": "HsKFx1Sx5KD-",
        "outputId": "f3abc058-96b2-4dc6-df5e-05d65bc0e699",
        "colab": {
          "base_uri": "https://localhost:8080/"
        }
      },
      "source": [
        "#The default data type is float for zeros and ones function\n",
        "\n",
        "a = np.zeros((3, 3))\n",
        "\n",
        "print(a)\n",
        "\n",
        "a.dtype"
      ],
      "execution_count": 30,
      "outputs": [
        {
          "output_type": "stream",
          "name": "stdout",
          "text": [
            "[[0. 0. 0.]\n",
            " [0. 0. 0.]\n",
            " [0. 0. 0.]]\n"
          ]
        },
        {
          "output_type": "execute_result",
          "data": {
            "text/plain": [
              "dtype('float64')"
            ]
          },
          "metadata": {},
          "execution_count": 30
        }
      ]
    },
    {
      "cell_type": "markdown",
      "metadata": {
        "id": "dAiIi9vT5KEB"
      },
      "source": [
        "**other datatypes**"
      ]
    },
    {
      "cell_type": "code",
      "metadata": {
        "id": "XCgbLGnL5KEC",
        "outputId": "6e00e7cf-26bb-4ecc-d951-a3b064402fbf",
        "colab": {
          "base_uri": "https://localhost:8080/"
        }
      },
      "source": [
        "d = np.array([1+2j, 2+4j])   #Complex datatype\n",
        "\n",
        "print(d.dtype)"
      ],
      "execution_count": 31,
      "outputs": [
        {
          "output_type": "stream",
          "name": "stdout",
          "text": [
            "complex128\n"
          ]
        }
      ]
    },
    {
      "cell_type": "code",
      "metadata": {
        "id": "t9Brdfix5KEF",
        "outputId": "5a012747-0575-43d4-b357-6344b3beb8ac",
        "colab": {
          "base_uri": "https://localhost:8080/"
        }
      },
      "source": [
        "b = np.array([True, False, True, False])  #Boolean datatype\n",
        "\n",
        "print(b.dtype)"
      ],
      "execution_count": 32,
      "outputs": [
        {
          "output_type": "stream",
          "name": "stdout",
          "text": [
            "bool\n"
          ]
        }
      ]
    },
    {
      "cell_type": "markdown",
      "metadata": {
        "id": "lxxrSs8A5KER"
      },
      "source": [
        "# 3. Indexing and Slicing"
      ]
    },
    {
      "cell_type": "markdown",
      "metadata": {
        "id": "Z_a389VI5KET"
      },
      "source": [
        "**3.1 Indexing**"
      ]
    },
    {
      "cell_type": "markdown",
      "metadata": {
        "id": "oA4Iu7nt5KEU"
      },
      "source": [
        "The items of an array can be accessed and assigned to the same way as other **Python sequences (e.g. lists)**:"
      ]
    },
    {
      "cell_type": "code",
      "metadata": {
        "id": "F4VuVNHU5KEW",
        "outputId": "e22ec907-ab80-4359-eaab-361347dfc8bf",
        "colab": {
          "base_uri": "https://localhost:8080/"
        }
      },
      "source": [
        "a = np.arange(10)\n",
        "print(a)\n",
        "print(a[5])  #indices begin at 0, like other Python sequences (and C/C++)"
      ],
      "execution_count": 36,
      "outputs": [
        {
          "output_type": "stream",
          "name": "stdout",
          "text": [
            "[0 1 2 3 4 5 6 7 8 9]\n",
            "5\n"
          ]
        }
      ]
    },
    {
      "cell_type": "code",
      "metadata": {
        "id": "9hwCCtDL5KEb",
        "outputId": "d3b84e1a-4940-442d-c3d3-2e6c822c5b73",
        "colab": {
          "base_uri": "https://localhost:8080/"
        }
      },
      "source": [
        "# For multidimensional arrays, indexes are tuples of integers:\n",
        "\n",
        "a = np.diag([1, 2, 3])\n",
        "print(a)\n",
        "print(a[2, 2])"
      ],
      "execution_count": 37,
      "outputs": [
        {
          "output_type": "stream",
          "name": "stdout",
          "text": [
            "[[1 0 0]\n",
            " [0 2 0]\n",
            " [0 0 3]]\n",
            "3\n"
          ]
        }
      ]
    },
    {
      "cell_type": "code",
      "metadata": {
        "id": "bS9JIqhw5KEf",
        "outputId": "91405a9e-77e4-41e0-fe54-03f7237ddc75",
        "colab": {
          "base_uri": "https://localhost:8080/"
        }
      },
      "source": [
        "a[2, 1] = 5 #assigning value\n",
        "\n",
        "a"
      ],
      "execution_count": 38,
      "outputs": [
        {
          "output_type": "execute_result",
          "data": {
            "text/plain": [
              "array([[1, 0, 0],\n",
              "       [0, 2, 0],\n",
              "       [0, 5, 3]])"
            ]
          },
          "metadata": {},
          "execution_count": 38
        }
      ]
    },
    {
      "cell_type": "markdown",
      "metadata": {
        "id": "oKY3p8dz5KEi"
      },
      "source": [
        "**3.2 Slicing**"
      ]
    },
    {
      "cell_type": "code",
      "metadata": {
        "id": "LJ7vz5uf5KEj",
        "outputId": "40ad83e8-7322-4f42-ed43-875623d86a98",
        "colab": {
          "base_uri": "https://localhost:8080/"
        }
      },
      "source": [
        "a = np.arange(10)\n",
        "\n",
        "a"
      ],
      "execution_count": 39,
      "outputs": [
        {
          "output_type": "execute_result",
          "data": {
            "text/plain": [
              "array([0, 1, 2, 3, 4, 5, 6, 7, 8, 9])"
            ]
          },
          "metadata": {},
          "execution_count": 39
        }
      ]
    },
    {
      "cell_type": "code",
      "metadata": {
        "id": "5-XmC2tC5KEr",
        "outputId": "48748d9b-703c-43aa-c6ea-76826892b18e",
        "colab": {
          "base_uri": "https://localhost:8080/"
        }
      },
      "source": [
        "a[1:8:2] # [startindex: endindex(exclusive) : step]"
      ],
      "execution_count": 40,
      "outputs": [
        {
          "output_type": "execute_result",
          "data": {
            "text/plain": [
              "array([1, 3, 5, 7])"
            ]
          },
          "metadata": {},
          "execution_count": 40
        }
      ]
    },
    {
      "cell_type": "code",
      "metadata": {
        "id": "kCvFrEFK5KEv",
        "outputId": "6d682cf2-88aa-416c-cc87-43b4870654cd",
        "colab": {
          "base_uri": "https://localhost:8080/"
        }
      },
      "source": [
        "#we can also combine assignment and slicing:\n",
        "\n",
        "a = np.arange(10)\n",
        "print(a)\n",
        "a[5:] = 10\n",
        "a"
      ],
      "execution_count": 41,
      "outputs": [
        {
          "output_type": "stream",
          "name": "stdout",
          "text": [
            "[0 1 2 3 4 5 6 7 8 9]\n"
          ]
        },
        {
          "output_type": "execute_result",
          "data": {
            "text/plain": [
              "array([ 0,  1,  2,  3,  4, 10, 10, 10, 10, 10])"
            ]
          },
          "metadata": {},
          "execution_count": 41
        }
      ]
    },
    {
      "cell_type": "code",
      "metadata": {
        "id": "Mnj-1D8y5KE0",
        "outputId": "4c07f8b2-21d7-4ef3-9959-065abb6cd8eb",
        "colab": {
          "base_uri": "https://localhost:8080/"
        }
      },
      "source": [
        "b = np.arange(5)\n",
        "print(b)\n",
        "a[5:] = b[::-1]  #assigning\n",
        "\n",
        "a"
      ],
      "execution_count": 42,
      "outputs": [
        {
          "output_type": "stream",
          "name": "stdout",
          "text": [
            "[0 1 2 3 4]\n"
          ]
        },
        {
          "output_type": "execute_result",
          "data": {
            "text/plain": [
              "array([0, 1, 2, 3, 4, 4, 3, 2, 1, 0])"
            ]
          },
          "metadata": {},
          "execution_count": 42
        }
      ]
    },
    {
      "cell_type": "markdown",
      "metadata": {
        "id": "BzcH6VRZ5KFc"
      },
      "source": [
        "# 4. Fancy Indexing"
      ]
    },
    {
      "cell_type": "markdown",
      "metadata": {
        "id": "hpi-JUwC5KFc"
      },
      "source": [
        "NumPy arrays can be indexed with slices, but also with boolean or integer arrays **(masks)**. This method is called **fancy indexing**. It creates copies not views."
      ]
    },
    {
      "cell_type": "markdown",
      "metadata": {
        "id": "RJtFgW0o5KFf"
      },
      "source": [
        "**Using Boolean Mask**"
      ]
    },
    {
      "cell_type": "code",
      "metadata": {
        "id": "Zb5eSA455KFn",
        "outputId": "efd083b4-332f-4c4f-a185-04363d30c723",
        "colab": {
          "base_uri": "https://localhost:8080/"
        }
      },
      "source": [
        "a = np.random.randint(0, 20, 15)\n",
        "a"
      ],
      "execution_count": 43,
      "outputs": [
        {
          "output_type": "execute_result",
          "data": {
            "text/plain": [
              "array([ 0,  2, 10, 19, 16, 11,  7,  4, 18, 11,  7,  7, 16,  3, 14])"
            ]
          },
          "metadata": {},
          "execution_count": 43
        }
      ]
    },
    {
      "cell_type": "code",
      "metadata": {
        "id": "EaIy9IdS5KFq"
      },
      "source": [
        "mask = (a % 2 == 0)"
      ],
      "execution_count": 44,
      "outputs": []
    },
    {
      "cell_type": "code",
      "metadata": {
        "id": "F7YUrhyv5KFt",
        "outputId": "f111afbe-b7df-4a1c-d7db-4ed0cfa98851",
        "colab": {
          "base_uri": "https://localhost:8080/"
        }
      },
      "source": [
        "extract_from_a = a[mask]\n",
        "\n",
        "extract_from_a"
      ],
      "execution_count": 45,
      "outputs": [
        {
          "output_type": "execute_result",
          "data": {
            "text/plain": [
              "array([ 0,  2, 10, 16,  4, 18, 16, 14])"
            ]
          },
          "metadata": {},
          "execution_count": 45
        }
      ]
    },
    {
      "cell_type": "markdown",
      "metadata": {
        "id": "cgMKaiDh5KFx"
      },
      "source": [
        "**Indexing with a mask can be very useful to assign a new value to a sub-array:**"
      ]
    },
    {
      "cell_type": "code",
      "metadata": {
        "id": "AMnQz8f15KFx",
        "outputId": "bc727bd7-d64c-4df8-969b-793291b373a5",
        "colab": {
          "base_uri": "https://localhost:8080/"
        }
      },
      "source": [
        "a[mask] = -1\n",
        "a"
      ],
      "execution_count": 46,
      "outputs": [
        {
          "output_type": "execute_result",
          "data": {
            "text/plain": [
              "array([-1, -1, -1, 19, -1, 11,  7, -1, -1, 11,  7,  7, -1,  3, -1])"
            ]
          },
          "metadata": {},
          "execution_count": 46
        }
      ]
    },
    {
      "cell_type": "markdown",
      "metadata": {
        "id": "Z0y-Uzk75KF0"
      },
      "source": [
        "**Indexing with an array of integers**"
      ]
    },
    {
      "cell_type": "code",
      "metadata": {
        "id": "2cdfdqQn5KF1",
        "outputId": "dde38fe1-7bde-4bba-8246-6a23e7cb0d61",
        "colab": {
          "base_uri": "https://localhost:8080/"
        }
      },
      "source": [
        "a = np.arange(0, 100, 10)\n",
        "\n",
        "a"
      ],
      "execution_count": 47,
      "outputs": [
        {
          "output_type": "execute_result",
          "data": {
            "text/plain": [
              "array([ 0, 10, 20, 30, 40, 50, 60, 70, 80, 90])"
            ]
          },
          "metadata": {},
          "execution_count": 47
        }
      ]
    },
    {
      "cell_type": "code",
      "metadata": {
        "id": "YlxMqvLm5KF4",
        "outputId": "43907516-029c-4bbb-e7ac-58579def4f5a",
        "colab": {
          "base_uri": "https://localhost:8080/"
        }
      },
      "source": [
        "#Indexing can be done with an array of integers, where the same index is repeated several time:\n",
        "\n",
        "a[[2, 3, 2, 4, 2]]"
      ],
      "execution_count": 48,
      "outputs": [
        {
          "output_type": "execute_result",
          "data": {
            "text/plain": [
              "array([20, 30, 20, 40, 20])"
            ]
          },
          "metadata": {},
          "execution_count": 48
        }
      ]
    },
    {
      "cell_type": "code",
      "metadata": {
        "id": "czX77cEZ5KF6",
        "outputId": "9e00efa7-a3d8-4697-f30d-e534d7bc6961",
        "colab": {
          "base_uri": "https://localhost:8080/"
        }
      },
      "source": [
        "# New values can be assigned\n",
        "\n",
        "a[[9, 7]] = -200\n",
        "\n",
        "a"
      ],
      "execution_count": 49,
      "outputs": [
        {
          "output_type": "execute_result",
          "data": {
            "text/plain": [
              "array([   0,   10,   20,   30,   40,   50,   60, -200,   80, -200])"
            ]
          },
          "metadata": {},
          "execution_count": 49
        }
      ]
    },
    {
      "cell_type": "code",
      "source": [],
      "metadata": {
        "id": "YX3d_n4dJugj"
      },
      "execution_count": null,
      "outputs": []
    }
  ]
}