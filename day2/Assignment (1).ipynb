{
  "nbformat": 4,
  "nbformat_minor": 0,
  "metadata": {
    "colab": {
      "provenance": []
    },
    "kernelspec": {
      "name": "python3",
      "display_name": "Python 3"
    },
    "language_info": {
      "name": "python"
    }
  },
  "cells": [
    {
      "cell_type": "code",
      "execution_count": null,
      "metadata": {
        "id": "HDkSxkmSUHRT"
      },
      "outputs": [],
      "source": [
        "l1 = [1,2,3,4]\n",
        "l2 = [3,4,5,6]\n",
        "#add this two list elementwise"
      ]
    },
    {
      "cell_type": "code",
      "source": [
        "#Find maximum element combining two list l1 and l2"
      ],
      "metadata": {
        "id": "DyEJ56p-US2T"
      },
      "execution_count": null,
      "outputs": []
    },
    {
      "cell_type": "code",
      "source": [
        "#find common elemnts from list l1 and l2"
      ],
      "metadata": {
        "id": "DJ-yEKuhUzHa"
      },
      "execution_count": null,
      "outputs": []
    },
    {
      "cell_type": "code",
      "source": [
        "d1 = {'a': 1, 'b': 2, 'c': 3, 'd': 4}\n",
        "d2 = {'a': 7, 'f': 2, 'g': 55, 'h': \"101\"}\n",
        "\n",
        "#find common key from d1 and d2\n",
        "#find common value from d1 and d2"
      ],
      "metadata": {
        "id": "R9O5Y42CVIt6"
      },
      "execution_count": null,
      "outputs": []
    },
    {
      "cell_type": "code",
      "source": [
        "#replace the values of d1 to their negatie value"
      ],
      "metadata": {
        "id": "F7fLH0gvVnCL"
      },
      "execution_count": null,
      "outputs": []
    },
    {
      "cell_type": "code",
      "source": [
        "#replace key to value and value to key in d2"
      ],
      "metadata": {
        "id": "BAr0i9uHWAKq"
      },
      "execution_count": null,
      "outputs": []
    }
  ]
}